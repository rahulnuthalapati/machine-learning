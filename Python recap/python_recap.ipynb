{
 "cells": [
  {
   "cell_type": "markdown",
   "metadata": {},
   "source": [
    "<div align=\"center\"> <h3><font color='cyan'>CSE 574 Section D: Introduction to Machine Learning, Fall 2023 </font> \n",
    "<h1> Assignment 0 - Python Introduction\n",
    "\n",
    "<h3>Checkpoint: September 7, Thu, 11:59pm\n",
    "<h2><font color='red'>Final Due Date: </font> September 14, Thu, 11:59pm</div>\n",
    "\n",
    "Welcome to your first CSE 574 assignment! The goal of this assignment is to sharpen your programming skills needed for this class. It is focused on familiarizing yourself with Python and main data science libraries that will be used for other assignments as well.\n",
    "\n",
    "There are a total of six parts. We will focus on basic Python functions, explore numpy, pandas, matplotlib, scikit-learn libraries,  and analyze the real-world dataset.\n",
    "\n",
    "If you are new to Python, check our [Python resources page](https://ubuffalo-my.sharepoint.com/:w:/g/personal/avereshc_buffalo_edu/EZoQjG_dJpNJgOPmzjIVtCQBdMUeNL9llFbOSQyFYidk7w?e=Tds2E3) and our Recitation 0 & 1.\n",
    "\n",
    "\n",
    "### Submission\n",
    "\n",
    "All the details you need for this assignment are located within this notebook. You are expected to follow every block and complete the task within the marks ``` # BEGIN_YOUR_CODE ``` and ```# END_YOUR_CODE```. Do not modify or edit code beyond these lines. You can add helper functions in the new cells, if needed. We recommend completing the task within this .ipynb notebook, if needed you can convert it and submit as .py script. Try to make your code as clean and simple as possible and be sure to write your answers between the begin answer and end answer comments.\n",
    "\n",
    "1. Submit at **Brighspace > Assesments > Assignments**\n",
    "2. The code of your implementations should be written in Python\n",
    "3. All project files should be submitted as jupyter notebooks named UBIT_assignment0_checkpoint.ipynb or UBIT_assignment0_final.ipynb, e.g. avereshc_assignment0_checkpoint.ipynb or avereshc_assignment0_final.ipynb.\n",
    "4. Please submit a .ipynb file only. Submitions with .py, .json, .pdf or any other type won't be considered for evaluation. Your Jupyter notebook should be saved with the results.  \n",
    "5. Include all the references that have been used to complete the assignment.\n",
    "\n",
    "### Checkpoint Submission <font color='red'>[Due Date: Sep 7]</font>\n",
    "Complete Part 1, Part 2 and submit the code in the .ipynb file named UBIT_assignment0_checkpoint.ipynb. Checkpoint will be evaluated after the final submission.\n",
    "\n",
    "### Final Submission <font color='red'>[Due Date: Sep 14]</font>\n",
    "Complete all parts of the assignment and submit the code in the .ipynb file named UBIT_assignment0_final.ipynb. You may add slight modification to your Checkpoint submission if needed.\n",
    "\n",
    "**Assignment Outline**\n",
    "\n",
    "| Part | Description | # of tasks | Points |\n",
    "| --- | --- | --- | --- |\n",
    "| [Part 1](#part1) | Python & Numpy Basics | 21 | 25 |\n",
    "| [Part 2](#part2) | Algorithms | 2 | 10 |\n",
    "| [Part 3](#part3) | Pandas Basics | 9 | 15 |\n",
    "| [Part 4](#part4) | Matplotlib Basics | 8 | 20 |\n",
    "| [Part 5](#part5) | Scikit Learn Basics | 3 | 20 |\n",
    "| [Part 6](#part6) | Optuna Basics | 2 | 10 |\n",
    "| [References](#references) | Include all the references used |\n",
    "\n",
    "    \n",
    "### Academic Integrity\n",
    "\n",
    "This task must be completed individually.\n",
    "The standing policy of the Department is that all students involved in any academic integrity violation (e.g. plagiarism in any way, shape, or form) will receive an F grade for the course. The catalog describes plagiarism as “Copying or receiving material from any source and submitting that material as one’s own, without acknowledging and citing the particular debts to the source, or in any other manner representing the work of another as one’s own.”. Refer to the [Office of Academic Integrity](https://www.buffalo.edu/academic-integrity.html) for more details.\n",
    "\n",
    "\n",
    "### Late Days Policy\n",
    "You can use up to 7 late days throughout the course toward any programming taks, assignments' checkpoint or final submission. You do not have to inform the instructor, as the late submission will be tracked in UBlearns.\n",
    "\n",
    "### FAQ\n",
    ">What does 'raise Exception(\"Not implemented yet\")' mean?\n",
    "\n",
    "Here we define a custom exception to highlight that the task is not implemented yet. Once you implement your code, ensure to remove this part.\n",
    "\n",
    ">Can I add code beyond # BEGIN_YOUR_CODE parts.\n",
    "\n",
    "Yes, you can add helper functions. Add them in the separate cell with the comments, why you need it"
   ]
  },
  {
   "cell_type": "markdown",
   "metadata": {},
   "source": [
    "<a id='part1'></a>\n",
    "## Part 1: Python and Numpy Basics [20 Points]"
   ]
  },
  {
   "cell_type": "markdown",
   "metadata": {},
   "source": [
    "The first part of this assignment gives you practice with python syntax. Follow the cells below for the instructions."
   ]
  },
  {
   "cell_type": "code",
   "execution_count": 98,
   "metadata": {},
   "outputs": [
    {
     "name": "stdout",
     "output_type": "stream",
     "text": [
      "Hello UB! Hello UB! Hello UB! Hello UB! Hello UB! Hello UB! Hello UB! Hello UB! Hello UB! Hello UB! Hello UB! Hello UB! Hello UB! Hello UB! Hello UB! Hello UB! Hello UB! Hello UB! Hello UB! Hello UB! Hello UB! Hello UB! Hello UB! Hello UB! Hello UB! Hello UB! Hello UB! Hello UB! Hello UB! Hello UB! Hello UB! Hello UB! Hello UB! Hello UB! Hello UB! Hello UB! Hello UB! Hello UB! Hello UB! Hello UB! Hello UB! Hello UB! Hello UB! Hello UB! Hello UB! Hello UB! Hello UB! Hello UB! Hello UB! Hello UB! Hello UB! Hello UB! Hello UB! Hello UB! Hello UB! Hello UB! Hello UB! Hello UB! Hello UB! Hello UB! Hello UB! Hello UB! Hello UB! Hello UB! Hello UB! Hello UB! Hello UB! Hello UB! Hello UB! Hello UB! Hello UB! Hello UB! Hello UB! Hello UB! Hello UB! Hello UB! Hello UB! Hello UB! Hello UB! Hello UB! Hello UB! Hello UB! Hello UB! Hello UB! Hello UB! Hello UB! Hello UB! Hello UB! Hello UB! Hello UB! Hello UB! Hello UB! Hello UB! Hello UB! Hello UB! Hello UB! Hello UB! Hello UB! Hello UB! Hello UB! "
     ]
    }
   ],
   "source": [
    "''' 1. Hello UB\n",
    "Write a function that will print a phrase \"Hello UB! \" 101 times\n",
    "\n",
    "Expected Output: \"Hello UB! Hello UB! Hello UB! Hello UB! Hello UB! ........\"\n",
    "'''\n",
    "\n",
    "# BEGIN_YOUR_CODE\n",
    "def printHelloUB():\n",
    "    for i in range(100):\n",
    "        print(\"Hello UB!\", end=\" \")\n",
    "\n",
    "printHelloUB()\n",
    "# END_YOUR_CODE"
   ]
  },
  {
   "cell_type": "code",
   "execution_count": 99,
   "metadata": {},
   "outputs": [
    {
     "name": "stdout",
     "output_type": "stream",
     "text": [
      "['TIrupati', 'Coorg', 'Araku', 'London', 'Japan']\n"
     ]
    }
   ],
   "source": [
    "''' 2. Adding elements to a list during the runtime\n",
    "Create an empty list and add five of your favourite holiday destinations to the list during the runtime using functions input() and append()\n",
    "Print out the list.\n",
    "'''\n",
    "\n",
    "# BEGIN_YOUR_CODE\n",
    "favHolidayDest = []\n",
    "for i in range(5):\n",
    "    favHolidayDest.append(input(f\"Enter Destination {i+1}: \"))\n",
    "\n",
    "print(favHolidayDest)\n",
    "# END_YOUR_CODE"
   ]
  },
  {
   "cell_type": "code",
   "execution_count": 100,
   "metadata": {},
   "outputs": [
    {
     "name": "stdout",
     "output_type": "stream",
     "text": [
      "[0, 5, 10, 15, 20, 25]\n"
     ]
    }
   ],
   "source": [
    "''' 3. Updating elements\n",
    "Given a string my_list, update the third element(i.e. 'ten') to 10 and sixth element(i.e. 'twenty five') to 25, so the output is as follows: [0, 5, 10, 15, 20, 25]\n",
    "Print out the updated list.\n",
    "\n",
    "Expected Output: [0, 5, 10, 15, 20, 25]\n",
    "'''\n",
    "\n",
    "my_list = [0, 5, 'ten', 15, 20, 'twenty five']\n",
    "\n",
    "# BEGIN_YOUR_CODE\n",
    "\n",
    "my_list = [0, 5, 'ten', 15, 20, 'twenty five']\n",
    "\n",
    "my_list[2] = 10\n",
    "my_list[5] = 25\n",
    "\n",
    "print(my_list)\n",
    "\n",
    "# END_YOUR_CODE"
   ]
  },
  {
   "cell_type": "code",
   "execution_count": 101,
   "metadata": {},
   "outputs": [
    {
     "name": "stdout",
     "output_type": "stream",
     "text": [
      "5\n"
     ]
    }
   ],
   "source": [
    "''' 4. Counting occurrences \n",
    "Write a function that counts the number of times a given word appears in a sentence. \n",
    "The word should be matched as a whole word, and the search should be case-insensitive.\n",
    "For example: \"The book is on the table\", total occurances of \"the\" is 2.\n",
    "'''\n",
    "\n",
    "sentence = \"The cat and the dog played in the park next to the theater. The cat was happy.\"\n",
    "word_to_count = \"the\"\n",
    "\n",
    "# BEGIN_YOUR_CODE\n",
    "\n",
    "def searchWord(sentence, word_to_count):\n",
    "    count = 0\n",
    "    word = \"\"\n",
    "    for i in range(len(sentence)):\n",
    "        word += sentence[i]\n",
    "        if sentence[i] == \" \":\n",
    "            word = word[:-1]\n",
    "            if word.lower() == word_to_count.lower():\n",
    "                count += 1\n",
    "            word = \"\"\n",
    "    return count\n",
    "\n",
    "print(searchWord(sentence, word_to_count))\n",
    "\n",
    "# END_YOUR_CODE"
   ]
  },
  {
   "cell_type": "code",
   "execution_count": 102,
   "metadata": {},
   "outputs": [
    {
     "name": "stdout",
     "output_type": "stream",
     "text": [
      "\n",
      "1 \n",
      "2 4 \n",
      "3 6 9 \n",
      "\n",
      "1 \n",
      "2 4 \n",
      "3 6 9 \n",
      "4 8 12 16 \n",
      "5 10 15 20 25 \n",
      "6 12 18 24 30 36 \n"
     ]
    }
   ],
   "source": [
    "''' 5. Pattern\n",
    "Create a function that generates and prints a specific number pattern based on the input integer n. \n",
    "The pattern consists of rows where each row contains consecutive multiples of the row number.\n",
    "\n",
    "Example Output:\n",
    "\n",
    "For 'n = 3', the pattern will be:\n",
    "1\n",
    "2 4\n",
    "3 6 9\n",
    "\n",
    "For 'n = 6', the pattern will be:\n",
    "1\n",
    "2 4\n",
    "3 6 9\n",
    "4 8 12 16\n",
    "5 10 15 20 25\n",
    "6 12 18 24 30 36\n",
    "\n",
    "Only submissions with a written function that will encode this exact pattern will be considered for evaluation\n",
    "'''\n",
    "\n",
    "# BEGIN_YOUR_CODE\n",
    "\n",
    "def printPattern(n):\n",
    "    for i in range(n+1):\n",
    "        current = i\n",
    "        for j in range(i):\n",
    "            print(current, end = \" \")\n",
    "            current += i\n",
    "        print()\n",
    "\n",
    "printPattern(3)\n",
    "printPattern(6)\n",
    "            \n",
    "        \n",
    "\n",
    "# END_YOUR_CODE"
   ]
  },
  {
   "cell_type": "code",
   "execution_count": 103,
   "metadata": {},
   "outputs": [
    {
     "name": "stdout",
     "output_type": "stream",
     "text": [
      "['Avengers', 'Age of Ultron', 'Infinity War', 'Endgame']\n"
     ]
    }
   ],
   "source": [
    "''' 6. Reversing\n",
    "Reverse the order of elements in a list given below, so the expected output is as follows: ['Avengers', 'Age of Ultron', 'Infinity War', 'Endgame']\n",
    "Print the reversed list.\n",
    "\n",
    "'''\n",
    "\n",
    "list1 = [\"Endgame\", \"Infinity War\", \"Age of Ultron\", \"Avengers\"]\n",
    "\n",
    "# BEGIN_YOUR_CODE\n",
    "\n",
    "def reverseList(list):\n",
    "    newList = []\n",
    "    for i in range(len(list)-1, -1, -1):\n",
    "        newList.append(list1[i])\n",
    "    return newList\n",
    "\n",
    "list1 = reverseList(list1)\n",
    "\n",
    "print(list1)\n",
    "\n",
    "# END_YOUR_CODE"
   ]
  },
  {
   "cell_type": "code",
   "execution_count": 104,
   "metadata": {},
   "outputs": [
    {
     "name": "stdout",
     "output_type": "stream",
     "text": [
      "1. Christian Bale\n",
      "2. Chris Evans\n",
      "3. Chris Hemsworth\n",
      "4. Cate Blanchett\n"
     ]
    }
   ],
   "source": [
    "''' 7. Numbering a list\n",
    "Write a function that will return a numbered list of the famous actors whose name starts from 'C' using \"enumerate()\" function.\n",
    "Print the numbered list\n",
    "\n",
    "Expected output:\n",
    "1. Christian Bale\n",
    "2. Chris Evans\n",
    "3. Chris Hemsworth\n",
    "4. Cate Blanchett\n",
    "\n",
    "'''\n",
    "\n",
    "actors = ['Margot Robbie', 'Christian Bale', 'Ryan Gosling', 'Chris Evans', 'Chris Hemsworth', 'Cate Blanchett']\n",
    "\n",
    "# BEGIN_YOUR_CODE\n",
    "\n",
    "def printCActors(list):\n",
    "    cActors = []\n",
    "    for actor in list:\n",
    "        if actor[0] == \"C\":\n",
    "            cActors.append(actor)\n",
    "    \n",
    "    for i, actors in enumerate(cActors):\n",
    "        print(f\"{i+1}.\", actors)\n",
    "\n",
    "printCActors(actors)\n",
    "\n",
    "# END_YOUR_CODE"
   ]
  },
  {
   "cell_type": "code",
   "execution_count": 105,
   "metadata": {},
   "outputs": [
    {
     "name": "stdout",
     "output_type": "stream",
     "text": [
      "[('Robert Downey Jr.', 'Iron Man'), ('Scarlett Johansson', 'Black Widow'), ('Chris Evans', 'Captain America'), ('Chris Hemsworth', 'Thor'), ('Mark Ruffalo', 'Hulk')]\n"
     ]
    }
   ],
   "source": [
    "''' 8. Combining lists\n",
    "Combine two lists given below using zip() function and print out the result\n",
    "Print the combined list\n",
    "\n",
    "'''\n",
    "\n",
    "actors = ['Robert Downey Jr.', 'Scarlett Johansson', 'Chris Evans', 'Chris Hemsworth', 'Mark Ruffalo']\n",
    "role = ['Iron Man', 'Black Widow', 'Captain America', 'Thor', 'Hulk']\n",
    "\n",
    "# BEGIN_YOUR_CODE\n",
    "\n",
    "combinedList = list(zip(actors, role))\n",
    "\n",
    "print(combinedList)\n",
    "\n",
    "# END_YOUR_CODE"
   ]
  },
  {
   "cell_type": "code",
   "execution_count": 106,
   "metadata": {},
   "outputs": [],
   "source": [
    "''' 9. Sum function\n",
    "Modify the given function to compute and return the sum of two integer values a and b\n",
    "'''\n",
    "\n",
    "def add(a: int, b: int) -> int:\n",
    "\n",
    "    # BEGIN_YOUR_CODE\n",
    "\n",
    "    return a + b\n",
    "\n",
    "    # END_YOUR_CODE"
   ]
  },
  {
   "cell_type": "markdown",
   "metadata": {},
   "source": [
    "We defined ```add_test``` to test your ```add``` function. For this function we ```import random``` library. This is a very commonly used package that helps to generate random values. For example:\n",
    "\n",
    "``` python\n",
    "random.randint(0, 100) #Returns any random integer in range [0, 100]\n",
    "```"
   ]
  },
  {
   "cell_type": "code",
   "execution_count": 107,
   "metadata": {},
   "outputs": [],
   "source": [
    "import random\n",
    "\n",
    "def add_test():\n",
    "    a = random.randint(0, 9)\n",
    "    b = random.randint(0, 9)\n",
    "    result = add(a, b)\n",
    "\n",
    "    return('Value of a is {0}, value of b is {1}, and their sum is {2}.'.format(a, b,result))"
   ]
  },
  {
   "cell_type": "code",
   "execution_count": 108,
   "metadata": {},
   "outputs": [
    {
     "name": "stdout",
     "output_type": "stream",
     "text": [
      "Value of a is 6, value of b is 1, and their sum is 7.\n"
     ]
    }
   ],
   "source": [
    "# Here we call our function 'add_test' to test your add function with random values\n",
    "if __name__ == '__main__':\n",
    "   print(add_test())"
   ]
  },
  {
   "cell_type": "markdown",
   "metadata": {},
   "source": [
    "In this section we will explore one of the most commonly used package - Numpy. You can refer to the [Official NumPy Guide](https://numpy.org/doc/stable/)."
   ]
  },
  {
   "cell_type": "code",
   "execution_count": 109,
   "metadata": {},
   "outputs": [],
   "source": [
    "''' 10. Import the numpy package\n",
    "'''\n",
    "\n",
    "# BEGIN_YOUR_CODE\n",
    "import numpy\n",
    "# END_YOUR_CODE"
   ]
  },
  {
   "cell_type": "code",
   "execution_count": 110,
   "metadata": {},
   "outputs": [
    {
     "name": "stdout",
     "output_type": "stream",
     "text": [
      "[10  0 38 33 35 22 26 11 41  3]\n"
     ]
    }
   ],
   "source": [
    "''' 11. Random integers\n",
    "Create a function that uses the NumPy library to generate an array of 10 random integers. \n",
    "The integers should be in the range [0, 50], both inclusive.\n",
    "Print the results.\n",
    "\n",
    "Example Output:\n",
    "[0 25 41 14  3  2 49 36  9 42]\n",
    "\n",
    "'''\n",
    "\n",
    "# BEGIN_YOUR_CODE\n",
    "def numpyArray():\n",
    "    return numpy.random.randint(0, 51, 10, int)\n",
    "\n",
    "array = numpyArray()\n",
    "print(array)\n",
    "\n",
    "# END_YOUR_CODE\n",
    "\n",
    "#https://numpy.org/doc/stable/reference/random/generated/numpy.random.randint.html"
   ]
  },
  {
   "cell_type": "code",
   "execution_count": 111,
   "metadata": {},
   "outputs": [
    {
     "name": "stdout",
     "output_type": "stream",
     "text": [
      "The first 2 elements are [10  0] \n",
      "The last two elements are [41  3] \n",
      "Elements in the middle are [38 33 35 22 26 11].\n"
     ]
    }
   ],
   "source": [
    "''' 12. Slicing\n",
    "Slice the above array and extract the first 2 elements, the last two elements, and all elements that are left in the middle.\n",
    "'''\n",
    "\n",
    "# BEGIN_YOUR_CODE\n",
    "first_two = array[:2]\n",
    "last_two = array[-2:]\n",
    "middle = array[2:-2]\n",
    "# END_YOUR_CODE\n",
    "\n",
    "print('The first 2 elements are {0} \\nThe last two elements are {1} \\nElements in the middle are {2}.'.format(first_two, last_two, middle))"
   ]
  },
  {
   "cell_type": "code",
   "execution_count": 112,
   "metadata": {},
   "outputs": [
    {
     "name": "stdout",
     "output_type": "stream",
     "text": [
      "[array([10,  0]), array([38, 33]), array([35, 22]), array([26, 11]), array([41,  3])]\n"
     ]
    }
   ],
   "source": [
    "''' 13. Split an array\n",
    "For the above list 'array' split the list into 5 equal parts and print it\n",
    "Output format will be as follows : [array([1,2]), array([3,4]), array([5,6]), array([7,8]), array([9,10])]\n",
    "Use built-in function from NumPy to split array\n",
    "'''\n",
    "\n",
    "# BEGIN_YOUR_CODE\n",
    "splitted = numpy.split(array, 5)\n",
    "print(splitted)\n",
    "# END_YOUR_CODE"
   ]
  },
  {
   "cell_type": "code",
   "execution_count": 113,
   "metadata": {},
   "outputs": [
    {
     "name": "stdout",
     "output_type": "stream",
     "text": [
      "array_a:  [ 3  5  5 15  7 13  9  1  5  2] \n",
      "array_b:  [ 9  9  8 18 19 14  5  8  2 16]\n",
      "unique_elements:  [ 1  2  3  5  7  9 13 15] \n",
      "common_elements:  [2 5 9]\n"
     ]
    }
   ],
   "source": [
    "''' 14. Arrays\n",
    "a. Generate two arrays, 'array_a' and 'array_b', each containing 10 randomly selected integers from the range [1, 20] (both inclusive).\n",
    "b. Print both arrays\n",
    "b. Use a built-in NumPy function to find the unique elements in 'array_a' and store them in the variable 'unique_elements'.\n",
    "c. Use a built-in NumPy function to find the common elements shared by 'array_a' and 'array_b' and store them in the variable 'common_elements'.\n",
    "d. Print 'unique_elements' and 'common_elements'\n",
    "'''\n",
    "\n",
    "# BEGIN_YOUR_CODE\n",
    "array_a = numpy.random.randint(1, 21, 10, int)\n",
    "array_b = numpy.random.randint(1, 21, 10, int)\n",
    "print(\"array_a: \", array_a, \"\\narray_b: \", array_b)\n",
    "unique_elements = numpy.unique(array_a)\n",
    "common_elements = numpy.intersect1d(array_a, array_b)\n",
    "print(\"unique_elements: \", unique_elements, \"\\ncommon_elements: \", common_elements)\n",
    "# END_YOUR_CODE"
   ]
  },
  {
   "cell_type": "code",
   "execution_count": 114,
   "metadata": {},
   "outputs": [
    {
     "name": "stdout",
     "output_type": "stream",
     "text": [
      "Element-wise sum:  [15 30 45 60 75]\n",
      "Element-wise difference:  [ 5 10 15 20 25]\n",
      "Element-wise product with scalar:  [ 30  60  90 120 150]\n",
      "Mean of array2:  15.0\n",
      "Maximum value in array1:  50\n"
     ]
    }
   ],
   "source": [
    "''' 15. Array operations\n",
    "You have two arrays, array1 and array2, both containing 5 integer values. Perform the following operations using NumPy functions:\n",
    "a. Calculate the element-wise sum of array1 and array2.\n",
    "b. Calculate the element-wise difference between array1 and array2.\n",
    "c. Calculate the element-wise product of array1 and a scalar value of 3.\n",
    "d. Calculate the mean (average) value of elements in array2.\n",
    "e. Calculate the maximum value in array1.\n",
    "\n",
    "\n",
    "Provide the resulting arrays and values after each operation.\n",
    "\n",
    "Expected output:\n",
    "Element-wise sum: [15 30 45 60 75]\n",
    "Element-wise difference: [ 5 10 15 20 25]\n",
    "Element-wise product with scalar: [ 30  60  90 120 150]\n",
    "Mean of array2: 15.0\n",
    "Maximum value in array1: 50\n",
    "'''\n",
    "\n",
    "array1 = numpy.array([10, 20, 30, 40, 50])\n",
    "array2 = numpy.array([5, 10, 15, 20, 25])\n",
    "\n",
    "# BEGIN_YOUR_CODE\n",
    "\n",
    "print(\"Element-wise sum: \", numpy.add(array1, array2))\n",
    "print(\"Element-wise difference: \", numpy.subtract(array1, array2))\n",
    "print(\"Element-wise product with scalar: \", numpy.multiply(array1, 3))\n",
    "print(\"Mean of array2: \", numpy.mean(array2))\n",
    "print(\"Maximum value in array1: \", numpy.max(array1))\n",
    "\n",
    "# END_YOUR_CODE"
   ]
  },
  {
   "cell_type": "code",
   "execution_count": 115,
   "metadata": {},
   "outputs": [
    {
     "name": "stdout",
     "output_type": "stream",
     "text": [
      "[[10 20 30 40 50]\n",
      " [ 5 10 15 20 25]]\n",
      "(2, 5)\n"
     ]
    }
   ],
   "source": [
    "''' 16. Changing dimensions\n",
    "Combine your 1D arrays defined above to a 2D matrix and print its shape. The final output dimension should be 2x5.\n",
    "'''\n",
    "\n",
    "# BEGIN_YOUR_CODE\n",
    "\n",
    "combinedArray = numpy.vstack((array1, array2))\n",
    "\n",
    "print(combinedArray)\n",
    "print(combinedArray.shape)\n",
    "\n",
    "# END_YOUR_CODE"
   ]
  },
  {
   "cell_type": "code",
   "execution_count": 116,
   "metadata": {},
   "outputs": [
    {
     "name": "stdout",
     "output_type": "stream",
     "text": [
      "[3 4 5 6 7 8]\n",
      "(6,)\n"
     ]
    }
   ],
   "source": [
    "''' 17. Changing dimensions\n",
    "Convert a matrix below to 1D array and print its dimension\n",
    "'''\n",
    "\n",
    "A = numpy.array([[3,4], [5,6], [7,8]])\n",
    "\n",
    "# BEGIN_YOUR_CODE\n",
    "\n",
    "A = numpy.concatenate(A)\n",
    "\n",
    "print(A)\n",
    "print(A.shape)\n",
    "\n",
    "# END_YOUR_CODE"
   ]
  },
  {
   "cell_type": "code",
   "execution_count": 117,
   "metadata": {},
   "outputs": [
    {
     "name": "stdout",
     "output_type": "stream",
     "text": [
      "\n",
      "Matrix A is \n",
      "[[0.58875708 0.52888549 0.88621652 0.55202271 0.52225289 0.73865056]\n",
      " [0.57559066 0.23049546 0.82259604 0.58014401 0.42882915 0.49925263]\n",
      " [0.50783347 0.96673243 0.99088454 0.12339167 0.91040493 0.78715012]\n",
      " [0.07633143 0.10444739 0.80223429 0.47805484 0.63817107 0.36428457]] \n",
      "Matrix B is \n",
      "[[0.83442015 0.01066902 0.12203635 0.0208962 ]\n",
      " [0.88686593 0.47325323 0.21864593 0.83427786]\n",
      " [0.99435739 0.28211099 0.56943631 0.70033883]\n",
      " [0.95796003 0.51005255 0.91156367 0.10703647]\n",
      " [0.60131862 0.66473903 0.51314747 0.87699087]\n",
      " [0.19595081 0.41048313 0.63898098 0.37849864]], \n",
      "Their product is \n",
      "[[2.82913249 1.43851571 1.93531255 1.87086788]\n",
      " [2.41410415 1.13318528 1.65695967 1.40756312]\n",
      " [3.08629232 1.73369652 1.92021719 2.62064963]\n",
      " [1.86711435 1.09414654 1.48499775 1.39928973]]\n"
     ]
    }
   ],
   "source": [
    "''' 18. Matrices\n",
    "a. Create two matrices A and B of size 4X6 and 6X4 respectively with random values in range [0 , 1), 0 is inclusive and 1 is exclusive\n",
    "b. Perform the dot product of matrices A and B\n",
    "c. Print matrix A, matrix B, and their dot product\n",
    "'''\n",
    "\n",
    "# BEGIN_YOUR_CODE\n",
    "A = numpy.random.rand(4, 6)\n",
    "B = numpy.random.rand(6, 4)\n",
    "dot_product = numpy.dot(A, B)\n",
    "# END_YOUR_CODE\n",
    "\n",
    "print('\\nMatrix A is \\n{0} \\nMatrix B is \\n{1}, \\nTheir product is \\n{2}'.format(A, B, dot_product))"
   ]
  },
  {
   "cell_type": "code",
   "execution_count": 118,
   "metadata": {},
   "outputs": [
    {
     "name": "stdout",
     "output_type": "stream",
     "text": [
      "[[2.94378541 2.64442743 4.43108259 2.76011357 2.61126446 3.69325279]\n",
      " [2.87795328 1.15247731 4.11298022 2.90072005 2.14414575 2.49626317]\n",
      " [2.53916736 4.83366213 4.95442268 0.61695835 4.55202464 3.9357506 ]\n",
      " [0.38165717 0.52223697 4.01117146 2.3902742  3.19085537 1.82142284]]\n"
     ]
    }
   ],
   "source": [
    "''' 19. Matrix scalar multiplication\n",
    "a. Multiply the previously defined matrix A by a scalar value of 5 using the multiply() function.\n",
    "b. Print a modified matrix A\n",
    "'''\n",
    "\n",
    "# BEGIN_YOUR_CODE\n",
    "newA = numpy.multiply(A, 5)\n",
    "print(newA)\n",
    "# END_YOUR_CODE"
   ]
  },
  {
   "cell_type": "code",
   "execution_count": 119,
   "metadata": {},
   "outputs": [
    {
     "name": "stdout",
     "output_type": "stream",
     "text": [
      "max_values:  [0.88621652 0.82259604 0.99088454 0.80223429]\n"
     ]
    }
   ],
   "source": [
    "''' 20. Maximum value\n",
    "a. Use the np.max() function to find the maximum value in each row of matrix A from Question 18.\n",
    "b. Store the resulting maximum values in the variable 'max_values'.\n",
    "c. Print out the results\n",
    "\n",
    "Expected output:\n",
    "max_values = [row1_max row2_max row3_max row4_max row5_max]\n",
    "'''\n",
    "\n",
    "# BEGIN_YOUR_CODE\n",
    "max_values = numpy.max(A, axis = 1)\n",
    "print(\"max_values: \", max_values)\n",
    "# END_YOUR_CODE"
   ]
  },
  {
   "cell_type": "code",
   "execution_count": 120,
   "metadata": {},
   "outputs": [
    {
     "name": "stdout",
     "output_type": "stream",
     "text": [
      "\n",
      "Matrix A is \n",
      "[[2 9 8 2]\n",
      " [2 6 7 6]\n",
      " [5 2 4 1]] \n",
      "Matrix B is \n",
      "[[8 8 2 5]\n",
      " [9 3 0 1]\n",
      " [4 3 3 7]], \n",
      "Their element-wise multiplication is \n",
      "[[16 72 16 10]\n",
      " [18 18  0  6]\n",
      " [20  6 12  7]]\n"
     ]
    }
   ],
   "source": [
    "''' 21. Element-wise multiplication\n",
    "Define two matrices A (3X4) and B (3X4) with random integer values in range [0, 9], both inclusive. Perform element-wise multiplication of Matrices A and B\n",
    "'''\n",
    "\n",
    "# BEGIN_YOUR_CODE\n",
    "A = numpy.random.randint(0, 10, (3, 4))\n",
    "B = numpy.random.randint(0, 10, (3, 4))\n",
    "multiplication = numpy.multiply(A, B)\n",
    "# END_YOUR_CODE\n",
    "\n",
    "print('\\nMatrix A is \\n{0} \\nMatrix B is \\n{1}, \\nTheir element-wise multiplication is \\n{2}'.format(A, B, multiplication))"
   ]
  },
  {
   "cell_type": "markdown",
   "metadata": {},
   "source": [
    "<a id='part2'></a>\n",
    "## Part 2 - Algorithms [10 Points]"
   ]
  },
  {
   "cell_type": "markdown",
   "metadata": {},
   "source": [
    "### Euclidian Distance\n",
    "\n",
    "Let point $p$ have Cartesian coordinates $(p_1,p_2)$ and let point $q$ have coordinates $(q_1,q_2)$. Then the distance between $p$ and $q$ is given by:\n",
    "    $d(p,q) = \\sqrt{(q_1-p_1)^2 + (q_2-p_2)^2}$.</math>"
   ]
  },
  {
   "cell_type": "code",
   "execution_count": 121,
   "metadata": {},
   "outputs": [],
   "source": [
    "''' 1. Euclidean distance\n",
    "Using numpy library return the Euclidean distance between two locations, where the locations are pairs of numbers (e.g., (3, 5)) '''\n",
    "\n",
    "def euclidean_distance(loc1: int, loc2: int) -> float:\n",
    "\n",
    "    # BEGIN_YOUR_CODE\n",
    "    return numpy.sqrt(numpy.sum(numpy.sum(numpy.square(numpy.array(loc2) - numpy.array(loc1)))))\n",
    "    # END_YOUR_CODE"
   ]
  },
  {
   "cell_type": "code",
   "execution_count": 122,
   "metadata": {},
   "outputs": [],
   "source": [
    "def euclidean_distance_test():\n",
    "    random.seed(42)\n",
    "    for _ in range(10):\n",
    "        x1 = random.randint(0, 10)\n",
    "        x2 = random.randint(0, 10)\n",
    "        y1 = random.randint(0, 10)\n",
    "        y2 = random.randint(0, 10)\n",
    "        dist = euclidean_distance((x1, x2), (y1, y2))\n",
    "    return('Loc1 is ({0}, {1}), loc2 is ({2}, {3}). Euclidian disctance is {4}.'.format(x1, x2, y1, y2, dist))"
   ]
  },
  {
   "cell_type": "code",
   "execution_count": 123,
   "metadata": {},
   "outputs": [
    {
     "name": "stdout",
     "output_type": "stream",
     "text": [
      "Loc1 is (3, 5), loc2 is (1, 1). Euclidian disctance is 4.47213595499958.\n"
     ]
    }
   ],
   "source": [
    "if __name__ == '__main__':\n",
    "    print(euclidean_distance_test())"
   ]
  },
  {
   "cell_type": "markdown",
   "metadata": {},
   "source": [
    "### String Operations"
   ]
  },
  {
   "cell_type": "code",
   "execution_count": 124,
   "metadata": {},
   "outputs": [],
   "source": [
    "# I am defining my own function here instead of using sort() here as I think this has to be done without using built-in methods.\n",
    "# This function will be used in case the first n letters of two words are same. \n",
    "\n",
    "def swap_words(words, j, i):\n",
    "    if words[j][i] == words[j+1][i]:\n",
    "        swap_words(words,j, i+1)\n",
    "    elif words[j][i] > words[j+1][i]:\n",
    "        temp = words[j]\n",
    "        words[j] = words[j+1]\n",
    "        words[j+1] = temp"
   ]
  },
  {
   "cell_type": "code",
   "execution_count": 125,
   "metadata": {},
   "outputs": [],
   "source": [
    "''' 2. Alphabetically first word\n",
    "Given a string, lowercase all the elements, then sort our all words in the alphabetical order and return the word that comes first, lexicographically.\n",
    "If the input text is an empty string, return an empty string or throw an error. '''\n",
    "\n",
    "def first_word(text: str) -> str:\n",
    "\n",
    "    # BEGIN_YOUR_CODE\n",
    "\n",
    "    text = text.lower()\n",
    "    words = text.split()\n",
    "    for i in range(len(words)):\n",
    "        for j in range(len(words)-1):\n",
    "                swap_words(words, j, 0)\n",
    "    return words[0]\n",
    "\n",
    "    # END_YOUR_CODE"
   ]
  },
  {
   "cell_type": "code",
   "execution_count": 126,
   "metadata": {},
   "outputs": [],
   "source": [
    "''' The output for following test cases will be as follows 'to', 'class', 'decisions', 'cat'\n",
    "'''\n",
    "\n",
    "def first_word_test():\n",
    "    result0 = first_word('WelCome tO Ub')\n",
    "    result1 = first_word('CSE574 IntRo to ML cLasS')\n",
    "    result2 = first_word('SequenCes of DeCiSions')\n",
    "    result3 = first_word('Wolf, Panther, Leopard, Dog, Cat')\n",
    "    return result0, result1, result2, result3"
   ]
  },
  {
   "cell_type": "code",
   "execution_count": 127,
   "metadata": {},
   "outputs": [
    {
     "name": "stdout",
     "output_type": "stream",
     "text": [
      "('to', 'class', 'decisions', 'cat')\n"
     ]
    }
   ],
   "source": [
    "if __name__ == '__main__':\n",
    "    print(first_word_test())"
   ]
  },
  {
   "cell_type": "markdown",
   "metadata": {},
   "source": [
    "## Load from Drive*\n",
    "\n",
    "*If you are using Goolge Colab, uncomment the following piece of code and verify the file using the command, if you can see your file ```penguins.csv``` you are good to go."
   ]
  },
  {
   "cell_type": "code",
   "execution_count": 128,
   "metadata": {},
   "outputs": [],
   "source": [
    "# !pwd\n",
    "# !ls"
   ]
  },
  {
   "cell_type": "code",
   "execution_count": 129,
   "metadata": {},
   "outputs": [],
   "source": [
    "#from google.colab import drive\n",
    "#drive.mount('/content/drive')\n",
    "#%cd ..\n",
    "#%cd /content/drive/MyDrive"
   ]
  },
  {
   "cell_type": "markdown",
   "metadata": {},
   "source": [
    "<a id='part3'></a>\n",
    "##  Part 3 - Pandas Basics [20 Points]\n",
    "\n",
    "Some important resources:\n",
    "\n",
    "- [A Pandas guide](https://pandasguide.readthedocs.io/en/latest/) covers fundamental information about the package\n",
    "\n",
    "- [Pandas Cheat Sheet](https://www.datacamp.com/community/blog/python-pandas-cheat-sheet)\n",
    "\n",
    "### Penguin dataset\n",
    "In this section we will explore with you Palmer Archipelago (Antarctica) penguin dataset. It contains three penguin species and includes measurements of bill length, bill depth, flipper length and body mass. Overall, we are provided with 344 data samples.\n",
    "![image.png](attachment:image.png)\n",
    "\n",
    "The dataset consists of 7 columns:\n",
    "- species: penguin species (Chinstrap, Adélie, or Gentoo)\n",
    "- culmen_length_mm: culmen length (mm)\n",
    "- culmen_depth_mm: culmen depth (mm)\n",
    "- flipper_length_mm: flipper length (mm)\n",
    "- body_mass_g: body mass (g)\n",
    "- island: island name (Dream, Torgersen, or Biscoe) in the Palmer Archipelago (Antarctica)\n",
    "- gender: penguin gender (female, male)\n",
    "\n",
    "#### What are culmen length & depth?\n",
    "The culmen is \"the upper ridge of a bird's beak\"\n",
    "\n",
    "#### What are flippers?\n",
    "Penguins wings are called flippers. They are flat, thin, and broad with a long, tapered shape and a blunt, rounded tip.\n",
    " \n",
    "![image.png](attachment:image-2.png)\n"
   ]
  },
  {
   "cell_type": "code",
   "execution_count": 130,
   "metadata": {},
   "outputs": [],
   "source": [
    "''' 1. Install and import pandas library\n",
    "'''\n",
    "\n",
    "# BEGIN_YOUR_CODE\n",
    "#%pip install pandas\n",
    "import pandas as pd\n",
    "\n",
    "# END_YOUR_CODE"
   ]
  },
  {
   "cell_type": "code",
   "execution_count": 131,
   "metadata": {},
   "outputs": [],
   "source": [
    "''' 2. Reading data\n",
    "Read the dataset and extract it into a DataFrame using the Pandas library.\n",
    "'''\n",
    "\n",
    "# BEGIN_YOUR_CODE\n",
    "df = pd.read_csv(\"penguins.csv\")\n",
    "# END_YOUR_CODE"
   ]
  },
  {
   "cell_type": "code",
   "execution_count": 132,
   "metadata": {},
   "outputs": [
    {
     "name": "stdout",
     "output_type": "stream",
     "text": [
      "       bill_length_mm  bill_depth_mm  flipper_length_mm  body_mass_g  \\\n",
      "count      342.000000     342.000000         342.000000   342.000000   \n",
      "mean        43.921930      17.151170         200.915205  4201.754386   \n",
      "std          5.459584       1.974793          14.061714   801.954536   \n",
      "min         32.100000      13.100000         172.000000  2700.000000   \n",
      "25%         39.225000      15.600000         190.000000  3550.000000   \n",
      "50%         44.450000      17.300000         197.000000  4050.000000   \n",
      "75%         48.500000      18.700000         213.000000  4750.000000   \n",
      "max         59.600000      21.500000         231.000000  6300.000000   \n",
      "\n",
      "              year  \n",
      "count   344.000000  \n",
      "mean   2008.029070  \n",
      "std       0.818356  \n",
      "min    2007.000000  \n",
      "25%    2007.000000  \n",
      "50%    2008.000000  \n",
      "75%    2009.000000  \n",
      "max    2009.000000  \n",
      "(344, 8)\n"
     ]
    }
   ],
   "source": [
    "''' 3. Basic Statistics \n",
    "Provide the main statistics about the entries in the dataset, including mean, standard deviation, and other relevant statistics.\n",
    "'''\n",
    "\n",
    "# BEGIN_YOUR_CODE\n",
    "print(df.describe())\n",
    "print(df.shape)\n",
    "# END_YOUR_CODE"
   ]
  },
  {
   "cell_type": "code",
   "execution_count": 133,
   "metadata": {},
   "outputs": [
    {
     "name": "stdout",
     "output_type": "stream",
     "text": [
      "   species     island  bill_length_mm  bill_depth_mm  flipper_length_mm  \\\n",
      "0   Adelie  Torgersen            39.1           18.7              181.0   \n",
      "1   Adelie  Torgersen            39.5           17.4              186.0   \n",
      "2   Adelie  Torgersen            40.3           18.0              195.0   \n",
      "3   Adelie  Torgersen             NaN            NaN                NaN   \n",
      "4   Adelie  Torgersen            36.7           19.3              193.0   \n",
      "5   Adelie  Torgersen            39.3           20.6              190.0   \n",
      "6   Adelie  Torgersen            38.9           17.8              181.0   \n",
      "7   Adelie  Torgersen            39.2           19.6              195.0   \n",
      "8   Adelie  Torgersen            34.1           18.1              193.0   \n",
      "9   Adelie  Torgersen            42.0           20.2              190.0   \n",
      "10  Adelie  Torgersen            37.8           17.1              186.0   \n",
      "11  Adelie  Torgersen            37.8           17.3              180.0   \n",
      "12  Adelie  Torgersen            41.1           17.6              182.0   \n",
      "13  Adelie  Torgersen            38.6           21.2              191.0   \n",
      "14  Adelie  Torgersen            34.6           21.1              198.0   \n",
      "\n",
      "    body_mass_g  gender  year  \n",
      "0        3750.0    male  2007  \n",
      "1        3800.0  female  2007  \n",
      "2        3250.0  female  2007  \n",
      "3           NaN     NaN  2007  \n",
      "4        3450.0  female  2007  \n",
      "5        3650.0    male  2007  \n",
      "6        3625.0  female  2007  \n",
      "7        4675.0    male  2007  \n",
      "8        3475.0     NaN  2007  \n",
      "9        4250.0     NaN  2007  \n",
      "10       3300.0     NaN  2007  \n",
      "11       3700.0     NaN  2007  \n",
      "12       3200.0  female  2007  \n",
      "13       3800.0    male  2007  \n",
      "14       4400.0    male  2007  \n"
     ]
    }
   ],
   "source": [
    "''' 4. Dataset overview\n",
    "Print top 15 rows of the dataset'''\n",
    "\n",
    "# BEGIN_YOUR_CODE\n",
    "print(df.head(15))\n",
    "# END_YOUR_CODE"
   ]
  },
  {
   "cell_type": "code",
   "execution_count": 134,
   "metadata": {},
   "outputs": [
    {
     "name": "stdout",
     "output_type": "stream",
     "text": [
      "(344, 8)\n"
     ]
    }
   ],
   "source": [
    "''' 5. Shape\n",
    "Print shape of the dataset '''\n",
    "\n",
    "# BEGIN_YOUR_CODE\n",
    "print(df.shape)\n",
    "# END_YOUR_CODE"
   ]
  },
  {
   "cell_type": "code",
   "execution_count": 135,
   "metadata": {},
   "outputs": [
    {
     "name": "stdout",
     "output_type": "stream",
     "text": [
      "Index(['species', 'island', 'bill_length_mm', 'bill_depth_mm',\n",
      "       'flipper_length_mm', 'body_mass_g', 'gender', 'year'],\n",
      "      dtype='object')\n"
     ]
    }
   ],
   "source": [
    "''' 6. Columns\n",
    "Identify and return all the unique column names'''\n",
    "\n",
    "# BEGIN_YOUR_CODE\n",
    "print(df.columns.unique())\n",
    "# END_YOUR_CODE"
   ]
  },
  {
   "cell_type": "code",
   "execution_count": 136,
   "metadata": {},
   "outputs": [
    {
     "name": "stdout",
     "output_type": "stream",
     "text": [
      "['Adelie' 'Gentoo' 'Chinstrap']\n"
     ]
    }
   ],
   "source": [
    "''' 7. Penguin species\n",
    "Print a list of penguin species used in the dateset'''\n",
    "\n",
    "# BEGIN_YOUR_CODE\n",
    "print(df[\"species\"].unique())\n",
    "# END_YOUR_CODE"
   ]
  },
  {
   "cell_type": "code",
   "execution_count": 137,
   "metadata": {},
   "outputs": [
    {
     "name": "stdout",
     "output_type": "stream",
     "text": [
      "[0, 0, 0, 0, 0, 0, 0, 0, 0, 0, 0, 0, 0, 0, 0, 0, 0, 0, 0, 0, 0, 0, 0, 0, 0, 0, 0, 0, 0, 0, 0, 0, 0, 0, 0, 0, 0, 0, 0, 0, 0, 0, 0, 0, 0, 0, 0, 0, 0, 0, 0, 0, 0, 0, 0, 0, 0, 0, 0, 0, 0, 0, 0, 0, 0, 0, 0, 0, 0, 0, 0, 0, 0, 0, 0, 0, 0, 0, 0, 0, 0, 0, 0, 0, 0, 0, 0, 0, 0, 0, 0, 0, 0, 0, 0, 0, 0, 0, 0, 0, 0, 0, 0, 0, 0, 0, 0, 0, 0, 0, 0, 0, 0, 0, 0, 0, 0, 0, 0, 0, 0, 0, 0, 0, 0, 0, 0, 0, 0, 0, 0, 0, 0, 0, 0, 0, 0, 0, 0, 0, 0, 0, 0, 0, 0, 0, 0, 0, 0, 0, 0, 0, 2, 2, 2, 2, 2, 2, 2, 2, 2, 2, 2, 2, 2, 2, 2, 2, 2, 2, 2, 2, 2, 2, 2, 2, 2, 2, 2, 2, 2, 2, 2, 2, 2, 2, 2, 2, 2, 2, 2, 2, 2, 2, 2, 2, 2, 2, 2, 2, 2, 2, 2, 2, 2, 2, 2, 2, 2, 2, 2, 2, 2, 2, 2, 2, 2, 2, 2, 2, 2, 2, 2, 2, 2, 2, 2, 2, 2, 2, 2, 2, 2, 2, 2, 2, 2, 2, 2, 2, 2, 2, 2, 2, 2, 2, 2, 2, 2, 2, 2, 2, 2, 2, 2, 2, 2, 2, 2, 2, 2, 2, 2, 2, 2, 2, 2, 2, 2, 2, 2, 2, 2, 2, 2, 2, 1, 1, 1, 1, 1, 1, 1, 1, 1, 1, 1, 1, 1, 1, 1, 1, 1, 1, 1, 1, 1, 1, 1, 1, 1, 1, 1, 1, 1, 1, 1, 1, 1, 1, 1, 1, 1, 1, 1, 1, 1, 1, 1, 1, 1, 1, 1, 1, 1, 1, 1, 1, 1, 1, 1, 1, 1, 1, 1, 1, 1, 1, 1, 1, 1, 1, 1, 1]\n"
     ]
    }
   ],
   "source": [
    "''' 8. String to categorical\n",
    "Convert one of the features with string datatype to categorical (e.g. species, island, gender).\n",
    "This can be done by assigning a unique numerical value to each unique string value in each categorical feature\n",
    "\n",
    "https://pandas.pydata.org/docs/user_guide/categorical.html\n",
    "\n",
    "Example:\n",
    "species = ['setosa', 'versicolor', 'setosa', 'virginica', 'versicolor']\n",
    "species_categorical = [0, 1, 0, 2, 1]\n",
    "'''\n",
    "\n",
    "# BEGIN_YOUR_CODE\n",
    "species = pd.Categorical(df[\"species\"])\n",
    "print(species.codes.tolist())\n",
    "# END_YOUR_CODE"
   ]
  },
  {
   "cell_type": "code",
   "execution_count": 138,
   "metadata": {},
   "outputs": [
    {
     "name": "stdout",
     "output_type": "stream",
     "text": [
      "0      0.291667\n",
      "1      0.305556\n",
      "2      0.152778\n",
      "3           NaN\n",
      "4      0.208333\n",
      "         ...   \n",
      "339    0.361111\n",
      "340    0.194444\n",
      "341    0.298611\n",
      "342    0.388889\n",
      "343    0.298611\n",
      "Name: body_mass_g_norm, Length: 344, dtype: float64\n"
     ]
    }
   ],
   "source": [
    "''' 9. Feature normalization\n",
    "Normalize one of the non-categorical features.\n",
    "   a. Select a column that you want to normalize (e.g. culmen_length_mm, culmen_depth_mm, flipper_length_mm, body_mass_g)\n",
    "   b. Find the min and max values for accross the selected column\n",
    "   c. Rescale the selected column to the range from 0 to 1 using the formula (x - min) / (max - min), where x is the original value\n",
    "   d. Store the normalized values and print the results\n",
    "\n",
    "Why do we do this? Normalization is to transform features to be on a similar scale. This improves the performance and training stability of the model.\n",
    "Note: normalize() function is not allowed as it is a part of scikit-learn library\n",
    "'''\n",
    "\n",
    "# BEGIN_YOUR_CODE\n",
    "norm_column = df[\"body_mass_g\"]\n",
    "min = norm_column.min()\n",
    "max = norm_column.max()\n",
    "\n",
    "df[\"body_mass_g_norm\"] = (norm_column - min) / (max - min)\n",
    "\n",
    "print(df[\"body_mass_g_norm\"])\n",
    "# END_YOUR_CODE"
   ]
  },
  {
   "cell_type": "markdown",
   "metadata": {},
   "source": [
    "<a id='part4'></a>\n",
    "## Part 4: Matplotlib Basics [20 Points]"
   ]
  },
  {
   "cell_type": "markdown",
   "metadata": {},
   "source": [
    "Heatmaps is a useful plot tool which help us visualize the data density or distribution. Refer the below documentation for more details on heatmap.\n",
    "\n",
    "[Matplotlib tutorial](https://machinelearningknowledge.ai/matplotlib-heatmap-complete-tutorial-for-beginners/)\n",
    "\n",
    "**Note:** You can only use matplotlib library for the following tasks"
   ]
  },
  {
   "cell_type": "code",
   "execution_count": 139,
   "metadata": {},
   "outputs": [],
   "source": [
    "''' 1. Install and import matplotlib library\n",
    "'''\n",
    "\n",
    "# BEGIN_YOUR_CODE\n",
    "#pip install matplotlib\n",
    "import matplotlib as mp\n",
    "import matplotlib.pyplot as plt\n",
    "# END_YOUR_CODE"
   ]
  },
  {
   "cell_type": "code",
   "execution_count": 140,
   "metadata": {},
   "outputs": [
    {
     "data": {
      "image/png": "[encoded data removed]",
      "text/plain": [
       "<Figure size 640x480 with 2 Axes>"
      ]
     },
     "metadata": {},
     "output_type": "display_data"
    }
   ],
   "source": [
    "''' 2. Creating and visualizing a heatmap\n",
    "Randomly generated 2D array to create and visualize a heatmap using Matplotlib.\n",
    "You can refer to: https://matplotlib.org/stable/gallery/images_contours_and_fields/image_annotated_heatmap.html\n",
    "a. Generate a random 2D array with dimensions 12x15 using any function, e.g. np.random.rand(), np.random.uniform(), np.random.randint()\n",
    "b. Create the heatmap using plt.imshow() and pass the random array as the data\n",
    "c. Customize the plot by adding a colorbar using plt.colorbar() and providing a descriptive title using plt.title()\n",
    "d. Display the heatmap using plt.show()\n",
    "'''\n",
    "\n",
    "# BEGIN YOUR CODE\n",
    "\n",
    "rand_array = numpy.random.randint(0, 100, (12, 15))\n",
    "heatmap = plt.imshow(rand_array)\n",
    "plt.colorbar()\n",
    "plt.title(\"Numbers from 0 to 99 in a 2D array\")\n",
    "plt.show(heatmap)\n",
    "# END YOUR CODE"
   ]
  },
  {
   "cell_type": "code",
   "execution_count": 155,
   "metadata": {},
   "outputs": [
    {
     "data": {
      "image/png": "[encoded data removed]",
      "text/plain": [
       "<Figure size 640x480 with 1 Axes>"
      ]
     },
     "metadata": {},
     "output_type": "display_data"
    }
   ],
   "source": [
    "''' 3. Plotting a function\n",
    "Explore list comprehension and visualization by plotting the function y = 1/x, for a given range of x values. \n",
    "List comprehension is a powerful technique that allows you to create lists in a concise and efficient way.\n",
    "You can check https://docs.python.org/3/tutorial/datastructures.html#list-comprehensions to learn how to use list comprehension\n",
    "a. Given the range of x values from 1 to 25, both inclusive, use list comprehension to calculate the corresponding y values for y = 1/x\n",
    "b. Create the plot using plt.plot() by passing the calculated x and y values as arguments\n",
    "c. Improve the plot by providing a title, labeling the x-axis and y-axis using plt.title(), plt.xlabel(), and plt.ylabel()\n",
    "d. Add a grid to the plot for better readability using plt.grid()\n",
    "e. Display the plot using plt.show()\n",
    "\n",
    "'''\n",
    "\n",
    "x = range(1,26)\n",
    "\n",
    "# BEGIN YOUR CODE\n",
    "y = [1/i for i in x]\n",
    "plt.plot(x, y)\n",
    "plt.title(\"X and Y values graph\")\n",
    "plt.xlabel(\"X Values\")\n",
    "plt.ylabel(\"Y Values (1/X)\")\n",
    "plt.grid()\n",
    "plt.show()\n",
    "\n",
    "# END YOUR CODE"
   ]
  },
  {
   "cell_type": "code",
   "execution_count": 142,
   "metadata": {},
   "outputs": [
    {
     "data": {
      "image/png": "[encoded data removed]",
      "text/plain": [
       "<Figure size 640x480 with 1 Axes>"
      ]
     },
     "metadata": {},
     "output_type": "display_data"
    }
   ],
   "source": [
    "''' 4. Plotting a function using lambda function\n",
    "For the given value x plot the function y = x^3 using lambda function y.\n",
    "\n",
    "Lambda function is a small anonymous function which consist of a single expression, and is usually used when we need the function for a smaller duration\n",
    "https://realpython.com/python-lambda/\n",
    "\n",
    "a. Given the range of x values from 0 to 24, use a lambda function to calculate the corresponding y values based on the function y = x^3\n",
    "b. Create the plot using plt.plot() with the calculated x and y values\n",
    "c. Customize the plot by adding a title, x-axis label, y-axis label, and grid using plt.title(), plt.xlabel(), plt.ylabel(), and plt.grid().\n",
    "d. Display the plot\n",
    "'''\n",
    "\n",
    "x = range(25)\n",
    "\n",
    "# BEGIN YOUR CODE\n",
    "y = list(map(lambda i: i**3, x))\n",
    "plt.plot(x, y)\n",
    "plt.title(\"Y (X^3) Values for the values of X\")\n",
    "plt.xlabel(\"X Values range(0, 25)\")\n",
    "plt.ylabel(\"Y Values X^3\")\n",
    "plt.grid()\n",
    "plt.show()\n",
    "\n",
    "# END YOUR CODE\n"
   ]
  },
  {
   "cell_type": "code",
   "execution_count": 143,
   "metadata": {},
   "outputs": [
    {
     "data": {
      "image/png": "[encoded data removed]",
      "text/plain": [
       "<Figure size 640x480 with 1 Axes>"
      ]
     },
     "metadata": {},
     "output_type": "display_data"
    }
   ],
   "source": [
    "''' 5. Plotting multiple functions on one graph\n",
    "Plot a graph with two lines representing the functions y = x^3 and y = x^4 for the provided range of x values.\n",
    "\n",
    "a. Given the range of x values from 0 to 24, use a lambda function to calculate the corresponding y values for y = x^3 (you can use your code from above)\n",
    "b. For the function y = x^4, calculate the y values using either list comprehension or a lambda function.\n",
    "c. Create the line plot for y = x^3 using plt.plot() and the scatter plot for y = x^4 using plt.scatter().\n",
    "d. Customize the plot by adding a title, x-axis label, y-axis label, legend, and grid using appropriate functions such as plt.title(), plt.xlabel(), plt.ylabel(), plt.legend(), and plt.grid().\n",
    "e. Display the plot using plt.show()\n",
    "\n",
    "Note: you can check more at https://matplotlib.org/stable/tutorials/introductory/pyplot.html\n",
    "'''\n",
    "\n",
    "x = range(25)\n",
    "\n",
    "# BEGIN YOUR CODE\n",
    "y1 = y\n",
    "y2 = [i**4 for i in x]\n",
    "plt.plot(x, y1, label=\"x to y1\")\n",
    "plt.scatter(x, y2, label=\"x to y2\")\n",
    "plt.title(\"Two functions y1 and y2\")\n",
    "plt.xlabel(\"X Values\")\n",
    "plt.ylabel(\"Y Values (y1 and y2)\")\n",
    "plt.legend()\n",
    "plt.grid()\n",
    "plt.show()\n",
    "\n",
    "# END YOUR CODE"
   ]
  },
  {
   "cell_type": "code",
   "execution_count": 144,
   "metadata": {},
   "outputs": [
    {
     "data": {
      "image/png": "[encoded data removed]",
      "text/plain": [
       "<Figure size 1200x500 with 2 Axes>"
      ]
     },
     "metadata": {},
     "output_type": "display_data"
    }
   ],
   "source": [
    "'''6. Creating subplots\n",
    "\n",
    "Create subplots to display the graphs of the tangent (tan) and cotangent (cot) functions side by side. The value of \n",
    "theta will range from -60 to 60 degrees.\n",
    "\n",
    "a. Generate an array of theta values using np.linspace() or np.arange() to cover the range from -60 to 60 degrees.  \n",
    "b. Calculate the corresponding y values for both the tangent (tan) and cotangent (cot) functions using np.tan() and 1 / np.tan()\n",
    "c. Create subplots using plt.subplots() and arrange them side by side\n",
    "d. Plot the tangent and cotangent functions in their respective subplots using plt.plot()\n",
    "e. Customize each subplot with titles and labels for x-axis and y-axis using plt.title(), plt.xlabel(), and plt.ylabel()\n",
    "f. Display the subplots using plt.show()\n",
    "'''\n",
    "\n",
    "# BEGIN YOUR CODE\n",
    "theta_array = numpy.linspace(-60, 60, 90)\n",
    "y_tan = numpy.tan(numpy.radians(theta_array))\n",
    "y_cot = [1/i for i in y_tan]\n",
    "fig, (tan, cot) = plt.subplots(1, 2, figsize = (12, 5))\n",
    "tan.plot(theta_array, y_tan)\n",
    "plt.sca(tan)\n",
    "plt.title(\"Tan Function\")\n",
    "plt.xlabel(\"Degrees\")\n",
    "plt.ylabel(\"Tan Values\")\n",
    "\n",
    "cot.plot(theta_array, y_cot)\n",
    "plt.sca(cot)\n",
    "plt.title(\"Cot Function\")\n",
    "plt.xlabel(\"Degrees\")\n",
    "plt.ylabel(\"Cot Values\")\n",
    "\n",
    "plt.show()\n",
    "\n",
    "# END YOUR CODE"
   ]
  },
  {
   "cell_type": "code",
   "execution_count": 145,
   "metadata": {},
   "outputs": [
    {
     "data": {
      "image/png": "[encoded data removed]",
      "text/plain": [
       "<Figure size 640x480 with 1 Axes>"
      ]
     },
     "metadata": {},
     "output_type": "display_data"
    }
   ],
   "source": [
    "''' 7. Plotting total number of penguins per species\n",
    "Use Penguin (\"penguin.csv\") dataset uploaded above to plot the total number of penguins per species\n",
    "a. Group the data by the \"species\" column and calculate the total number of penguins for each species using groupby() and count()\n",
    "b. Create a bar graph using plt.bar() to display the total number of penguins per species\n",
    "c. Customize the graph by adding a title, x-axis label, y-axis label, rotating x-axis labels for better readability\n",
    "d. Display the plot\n",
    "'''\n",
    "\n",
    "# BEGIN YOUR CODE\n",
    "species_grp = df.groupby(\"species\")\n",
    "tot = species_grp[\"species\"].count()\n",
    "plt.bar(tot.index, tot)\n",
    "plt.title(\"Penguins and their species count\")\n",
    "plt.xlabel(\"Species Names\")\n",
    "plt.ylabel(\"Number of Penguins\")\n",
    "plt.xticks(rotation=45)\n",
    "plt.show()\n",
    "# END YOUR CODE"
   ]
  },
  {
   "cell_type": "code",
   "execution_count": 146,
   "metadata": {},
   "outputs": [
    {
     "name": "stderr",
     "output_type": "stream",
     "text": [
      "/tmp/ipykernel_511/3932149927.py:12: SettingWithCopyWarning: \n",
      "A value is trying to be set on a copy of a slice from a DataFrame.\n",
      "Try using .loc[row_indexer,col_indexer] = value instead\n",
      "\n",
      "See the caveats in the documentation: https://pandas.pydata.org/pandas-docs/stable/user_guide/indexing.html#returning-a-view-versus-a-copy\n",
      "  filter_pg[\"body_mass_group\"] = pd.cut(filter_pg[\"body_mass_g\"], bins = [3200, 3500, 3800, 4100, 4400, 4500], labels = [\"3200-3500\", \"3500-3800\", \"3800-4100\", \"4100-4400\", \"4400-4500\"])\n",
      "/tmp/ipykernel_511/3932149927.py:13: FutureWarning: The default of observed=False is deprecated and will be changed to True in a future version of pandas. Pass observed=False to retain current behavior or observed=True to adopt the future default and silence this warning.\n",
      "  count = filter_pg.groupby(\"body_mass_group\")[\"species\"].count()\n"
     ]
    },
    {
     "data": {
      "image/png": "[encoded data removed]",
      "text/plain": [
       "<Figure size 640x480 with 1 Axes>"
      ]
     },
     "metadata": {},
     "output_type": "display_data"
    },
    {
     "name": "stdout",
     "output_type": "stream",
     "text": [
      "Most common species:  Adelie\n"
     ]
    }
   ],
   "source": [
    "''' 8. Plotting total number of penguins in body mass range\n",
    "Display a graph displaying the total number of penguins in the specified body mass range.\n",
    "a. Filter the data to include only the penguins with body mass (body_mass_g) in the range of (3200, 4500], 3200 - exclusive and 4500-inclusive\n",
    "b. Group the filtered data by body mass range using the 'pd.cut()' function with specified bins as follows: 3200-3500, 3500-3800, 3800-4100, 4100-4400, and 4400-4500. After applying 'pd.cut()', use the 'groupby()' function to group the data based on these body mass ranges.\n",
    "c. Create a bar graph using plt.bar() to display the total number of penguins in the specified body mass range\n",
    "d. Customize the graph by adding a title, x-axis label, y-axis label, rotating x-axis labels for better readability\n",
    "e. Display the plot\n",
    "'''\n",
    "\n",
    "# BEGIN YOUR CODE\n",
    "filter_pg = df[(df[\"body_mass_g\"] > 3200) & (df[\"body_mass_g\"] <= 4500)]\n",
    "filter_pg[\"body_mass_group\"] = pd.cut(filter_pg[\"body_mass_g\"], bins = [3200, 3500, 3800, 4100, 4400, 4500], labels = [\"3200-3500\", \"3500-3800\", \"3800-4100\", \"4100-4400\", \"4400-4500\"])\n",
    "count = filter_pg.groupby(\"body_mass_group\")[\"species\"].count()\n",
    "plt.bar(count.index, count.values)\n",
    "plt.title(\"Penguins in a body mass range\")\n",
    "plt.xlabel(\"Body Mass Ranges\")\n",
    "plt.ylabel(\"Penguins Count\")\n",
    "plt.xticks(rotation = 45)\n",
    "plt.show()\n",
    "\n",
    "#print(filter_pg)\n",
    "#below lines used for answering the text questions=\n",
    "all_species = df.groupby(\"species\")[\"species\"].count()\n",
    "print(\"Most common species: \", all_species.idxmax())\n",
    "# END YOUR CODE"
   ]
  },
  {
   "cell_type": "markdown",
   "metadata": {},
   "source": [
    "#### Results analyzing\n",
    "\n",
    "Analyze the graph and answer the following two questions:\n",
    "\n",
    "**1) What is your inference from the above graph?**\n",
    "\n",
    "*YOUR ANSWER:* I can see that the range varies most. But its just good to see that most of the penguins are not overweight, and most of the penguins' body mass are between 3500 and 3800. So this might be the average weight of penguins not considering any species. \n",
    "\n",
    "**2) What is the distribution of penguins across different body mass ranges within the specified range(3200, 4500]?**\n",
    "\n",
    "*YOUR ANSWER:* From above question, assuming 3500 and 3800 grams are the average weight of penguins, there are around 50 penguins which are below the average weight, and around 90 penguins which are kind of overweight. And 10 penguins irrespective of the species can be considered overweight. Considering the overall distribution, around 35 penguins are present in each range in average.\n",
    "\n",
    "**3) Which is the most common species of penguins?**\n",
    "\n",
    "*YOUR ANSWER:* Given, that the question is not asking the most common species between 3200 and 4500 body mass, grouping all species and counting their values gives, \"Adelie\" is the most common species. "
   ]
  },
  {
   "cell_type": "markdown",
   "metadata": {},
   "source": [
    "<a id='part5'></a>\n",
    "# Part 5: Sckit-learn Basics [20 Points]\n",
    "\n",
    "Skit-learn is a commonly used data analysis library. It contains in-build unsupervised and supervised learning algorithms. Check more details here - https://scikit-learn.org/stable/.\n",
    "In this part we will use scikit-learn library"
   ]
  },
  {
   "cell_type": "code",
   "execution_count": 147,
   "metadata": {},
   "outputs": [],
   "source": [
    "''' 1. Install and import scikit-learn library\n",
    "'''\n",
    "\n",
    "# BEGIN_YOUR_CODE\n",
    "#!pip install scikit-learn\n",
    "import sklearn as skl\n",
    "# END_YOUR_CODE"
   ]
  },
  {
   "cell_type": "code",
   "execution_count": 160,
   "metadata": {},
   "outputs": [
    {
     "name": "stdout",
     "output_type": "stream",
     "text": [
      "(275, 8)\n",
      "(69, 8)\n",
      "(275,)\n",
      "(69,)\n"
     ]
    }
   ],
   "source": [
    "''' 2. Prepare Penguins dataset for training\n",
    "a. Define our X_data = all the columns, exept 'Species'. You can use drop() function\n",
    "b. Define Y_target = 'Species' column from the dataset\n",
    "c. Use the train_test_split() function to split the dataset into training and testing sets. Pass the features (X_data) and target (Y_target), set test_size to 0.2 for an 80/20 split\n",
    "d. Print the shapes of X_train, X_test, Y_train, and Y_test sets\n",
    "'''\n",
    "\n",
    "# BEGIN_YOUR_CODE\n",
    "from sklearn.model_selection import train_test_split as tts\n",
    "X_data = df.drop(\"species\", axis = 1)\n",
    "Y_target = df[\"species\"]\n",
    "X_train, X_test, Y_train, Y_test = tts(X_data, Y_target, test_size = 0.2)\n",
    "print(X_train.shape)\n",
    "print(X_test.shape)\n",
    "print(Y_train.shape)\n",
    "print(Y_test.shape)\n",
    "# END_YOUR_CODE"
   ]
  },
  {
   "cell_type": "code",
   "execution_count": 181,
   "metadata": {},
   "outputs": [
    {
     "name": "stdout",
     "output_type": "stream",
     "text": [
      "Accuracy:  1.0\n",
      "Parameter Values:  {'C': 1.0, 'class_weight': None, 'dual': False, 'fit_intercept': True, 'intercept_scaling': 1, 'l1_ratio': None, 'max_iter': 100, 'multi_class': 'auto', 'n_jobs': None, 'penalty': 'l2', 'random_state': None, 'solver': 'lbfgs', 'tol': 0.0001, 'verbose': 0, 'warm_start': False}\n",
      "\n",
      "\n",
      "\n"
     ]
    },
    {
     "name": "stderr",
     "output_type": "stream",
     "text": [
      "/home/rahul/.local/lib/python3.10/site-packages/sklearn/linear_model/_logistic.py:460: ConvergenceWarning: lbfgs failed to converge (status=1):\n",
      "STOP: TOTAL NO. of ITERATIONS REACHED LIMIT.\n",
      "\n",
      "Increase the number of iterations (max_iter) or scale the data as shown in:\n",
      "    https://scikit-learn.org/stable/modules/preprocessing.html\n",
      "Please also refer to the documentation for alternative solver options:\n",
      "    https://scikit-learn.org/stable/modules/linear_model.html#logistic-regression\n",
      "  n_iter_i = _check_optimize_result(\n"
     ]
    }
   ],
   "source": [
    "''' 3. Fit the model\n",
    "a. Create and fit a logistic regression model to predict the 'Species' of a penguin using all of the other features in the dataset.\n",
    "b. You can use one hot encoding to encode categorical-based feature ('island' and 'gender') or reuse your code from abouve\n",
    "c. Create a logistic regression model using LogisticRegression()\n",
    "d. Fit the model using the training data\n",
    "e. Make predictions on the testing data using the trained model\n",
    "f. Print the accuracy score by comparing the predicted values with the actual target values using accuracy_score()\n",
    "g. Print the parameter values of the logistic regression model using get_params()\n",
    "\n",
    "You can read more about the inbuild Logistic Regression model here - https://scikit-learn.org/stable/modules/generated/sklearn.linear_model.LogisticRegression.html\n",
    "'''\n",
    "\n",
    "# BEGIN_YOUR_CODE\n",
    "from sklearn.linear_model import LogisticRegression\n",
    "from sklearn.preprocessing import OneHotEncoder\n",
    "from sklearn.metrics import accuracy_score\n",
    "\n",
    "lr_model = LogisticRegression()\n",
    "new_df = df.dropna().reset_index(drop=True)\n",
    "X_data = new_df.drop(\"species\", axis = 1)\n",
    "Y_data = new_df[\"species\"]\n",
    "\n",
    "encoder = OneHotEncoder()\n",
    "encoded_data = encoder.fit_transform(X_data[[\"island\", \"gender\"]])\n",
    "encoded_data = pd.DataFrame(encoded_data.toarray(), columns = encoder.get_feature_names_out())\n",
    "X_data = pd.concat([encoded_data, X_data.drop(columns = [\"gender\", \"island\"])], axis = 1)\n",
    "\n",
    "x_train, x_test, y_train, y_test = tts(X_data, Y_data, test_size = 0.2)\n",
    "\n",
    "lr_model.fit(x_train, y_train)\n",
    "\n",
    "y_pred = lr_model.predict(x_test)\n",
    "\n",
    "print(\"Accuracy: \", accuracy_score(y_test, y_pred))\n",
    "print(\"Parameter Values: \", lr_model.get_params())\n",
    "print(\"\\n\\n\")\n",
    "# END_YOUR_CODE"
   ]
  },
  {
   "cell_type": "markdown",
   "metadata": {},
   "source": [
    "<a id='part6'></a>\n",
    "# Part 6: Optuna Basics [10 Points]\n",
    "\n",
    "Optuna is a an open-source framework that helps to automatically search best hyperparameters, when training machine learning or deep learning models. \n",
    "Check more details here - https://optuna.org/ . In this part we will use optuna framework."
   ]
  },
  {
   "cell_type": "code",
   "execution_count": 162,
   "metadata": {},
   "outputs": [],
   "source": [
    "''' 1. Install and import optuna\n",
    "You can read more about installation here - https://optuna.org/#installation\n",
    "'''\n",
    "\n",
    "# BEGIN_YOUR_CODE\n",
    "#!pip install optuna\n",
    "import optuna\n",
    "# END_YOUR_CODE"
   ]
  },
  {
   "cell_type": "markdown",
   "metadata": {},
   "source": [
    "You can refer code examples on how to use optuna here - https://optuna.org/#code_examples"
   ]
  },
  {
   "cell_type": "code",
   "execution_count": 182,
   "metadata": {},
   "outputs": [
    {
     "name": "stderr",
     "output_type": "stream",
     "text": [
      "[I 2023-09-14 18:48:49,784] A new study created in memory with name: no-name-e840f253-3293-4339-ba62-2fb642f1b41f\n",
      "/home/rahul/.local/lib/python3.10/site-packages/sklearn/linear_model/_logistic.py:460: ConvergenceWarning: lbfgs failed to converge (status=1):\n",
      "STOP: TOTAL NO. of ITERATIONS REACHED LIMIT.\n",
      "\n",
      "Increase the number of iterations (max_iter) or scale the data as shown in:\n",
      "    https://scikit-learn.org/stable/modules/preprocessing.html\n",
      "Please also refer to the documentation for alternative solver options:\n",
      "    https://scikit-learn.org/stable/modules/linear_model.html#logistic-regression\n",
      "  n_iter_i = _check_optimize_result(\n",
      "[I 2023-09-14 18:48:49,847] Trial 0 finished with value: 1.0 and parameters: {'C': 7.749961858409297, 'max_iter': 241}. Best is trial 0 with value: 1.0.\n",
      "/home/rahul/.local/lib/python3.10/site-packages/sklearn/linear_model/_logistic.py:460: ConvergenceWarning: lbfgs failed to converge (status=1):\n",
      "STOP: TOTAL NO. of ITERATIONS REACHED LIMIT.\n",
      "\n",
      "Increase the number of iterations (max_iter) or scale the data as shown in:\n",
      "    https://scikit-learn.org/stable/modules/preprocessing.html\n",
      "Please also refer to the documentation for alternative solver options:\n",
      "    https://scikit-learn.org/stable/modules/linear_model.html#logistic-regression\n",
      "  n_iter_i = _check_optimize_result(\n",
      "[I 2023-09-14 18:48:49,973] Trial 1 finished with value: 1.0 and parameters: {'C': 6.387788360710653, 'max_iter': 549}. Best is trial 0 with value: 1.0.\n",
      "/home/rahul/.local/lib/python3.10/site-packages/sklearn/linear_model/_logistic.py:460: ConvergenceWarning: lbfgs failed to converge (status=1):\n",
      "STOP: TOTAL NO. of ITERATIONS REACHED LIMIT.\n",
      "\n",
      "Increase the number of iterations (max_iter) or scale the data as shown in:\n",
      "    https://scikit-learn.org/stable/modules/preprocessing.html\n",
      "Please also refer to the documentation for alternative solver options:\n",
      "    https://scikit-learn.org/stable/modules/linear_model.html#logistic-regression\n",
      "  n_iter_i = _check_optimize_result(\n",
      "[I 2023-09-14 18:48:50,021] Trial 2 finished with value: 1.0 and parameters: {'C': 3.106802798705994, 'max_iter': 153}. Best is trial 0 with value: 1.0.\n",
      "/home/rahul/.local/lib/python3.10/site-packages/sklearn/linear_model/_logistic.py:460: ConvergenceWarning: lbfgs failed to converge (status=1):\n",
      "STOP: TOTAL NO. of ITERATIONS REACHED LIMIT.\n",
      "\n",
      "Increase the number of iterations (max_iter) or scale the data as shown in:\n",
      "    https://scikit-learn.org/stable/modules/preprocessing.html\n",
      "Please also refer to the documentation for alternative solver options:\n",
      "    https://scikit-learn.org/stable/modules/linear_model.html#logistic-regression\n",
      "  n_iter_i = _check_optimize_result(\n",
      "[I 2023-09-14 18:48:50,060] Trial 3 finished with value: 1.0 and parameters: {'C': 6.6717868887351575, 'max_iter': 117}. Best is trial 0 with value: 1.0.\n",
      "/home/rahul/.local/lib/python3.10/site-packages/sklearn/linear_model/_logistic.py:460: ConvergenceWarning: lbfgs failed to converge (status=1):\n",
      "STOP: TOTAL NO. of ITERATIONS REACHED LIMIT.\n",
      "\n",
      "Increase the number of iterations (max_iter) or scale the data as shown in:\n",
      "    https://scikit-learn.org/stable/modules/preprocessing.html\n",
      "Please also refer to the documentation for alternative solver options:\n",
      "    https://scikit-learn.org/stable/modules/linear_model.html#logistic-regression\n",
      "  n_iter_i = _check_optimize_result(\n",
      "[I 2023-09-14 18:48:50,186] Trial 4 finished with value: 1.0 and parameters: {'C': 9.277237281143368, 'max_iter': 800}. Best is trial 0 with value: 1.0.\n",
      "/home/rahul/.local/lib/python3.10/site-packages/sklearn/linear_model/_logistic.py:460: ConvergenceWarning: lbfgs failed to converge (status=1):\n",
      "STOP: TOTAL NO. of ITERATIONS REACHED LIMIT.\n",
      "\n",
      "Increase the number of iterations (max_iter) or scale the data as shown in:\n",
      "    https://scikit-learn.org/stable/modules/preprocessing.html\n",
      "Please also refer to the documentation for alternative solver options:\n",
      "    https://scikit-learn.org/stable/modules/linear_model.html#logistic-regression\n",
      "  n_iter_i = _check_optimize_result(\n",
      "[I 2023-09-14 18:48:50,218] Trial 5 finished with value: 1.0 and parameters: {'C': 1.3012573806650523, 'max_iter': 119}. Best is trial 0 with value: 1.0.\n",
      "/home/rahul/.local/lib/python3.10/site-packages/sklearn/linear_model/_logistic.py:460: ConvergenceWarning: lbfgs failed to converge (status=1):\n",
      "STOP: TOTAL NO. of ITERATIONS REACHED LIMIT.\n",
      "\n",
      "Increase the number of iterations (max_iter) or scale the data as shown in:\n",
      "    https://scikit-learn.org/stable/modules/preprocessing.html\n",
      "Please also refer to the documentation for alternative solver options:\n",
      "    https://scikit-learn.org/stable/modules/linear_model.html#logistic-regression\n",
      "  n_iter_i = _check_optimize_result(\n",
      "[I 2023-09-14 18:48:50,298] Trial 6 finished with value: 1.0 and parameters: {'C': 2.2098486966441366, 'max_iter': 399}. Best is trial 0 with value: 1.0.\n",
      "/home/rahul/.local/lib/python3.10/site-packages/sklearn/linear_model/_logistic.py:460: ConvergenceWarning: lbfgs failed to converge (status=1):\n",
      "STOP: TOTAL NO. of ITERATIONS REACHED LIMIT.\n",
      "\n",
      "Increase the number of iterations (max_iter) or scale the data as shown in:\n",
      "    https://scikit-learn.org/stable/modules/preprocessing.html\n",
      "Please also refer to the documentation for alternative solver options:\n",
      "    https://scikit-learn.org/stable/modules/linear_model.html#logistic-regression\n",
      "  n_iter_i = _check_optimize_result(\n",
      "[I 2023-09-14 18:48:50,399] Trial 7 finished with value: 1.0 and parameters: {'C': 5.046060217520852, 'max_iter': 539}. Best is trial 0 with value: 1.0.\n",
      "/home/rahul/.local/lib/python3.10/site-packages/sklearn/linear_model/_logistic.py:460: ConvergenceWarning: lbfgs failed to converge (status=1):\n",
      "STOP: TOTAL NO. of ITERATIONS REACHED LIMIT.\n",
      "\n",
      "Increase the number of iterations (max_iter) or scale the data as shown in:\n",
      "    https://scikit-learn.org/stable/modules/preprocessing.html\n",
      "Please also refer to the documentation for alternative solver options:\n",
      "    https://scikit-learn.org/stable/modules/linear_model.html#logistic-regression\n",
      "  n_iter_i = _check_optimize_result(\n",
      "[I 2023-09-14 18:48:50,466] Trial 8 finished with value: 1.0 and parameters: {'C': 7.49673749508857, 'max_iter': 407}. Best is trial 0 with value: 1.0.\n",
      "/home/rahul/.local/lib/python3.10/site-packages/sklearn/linear_model/_logistic.py:460: ConvergenceWarning: lbfgs failed to converge (status=1):\n",
      "STOP: TOTAL NO. of ITERATIONS REACHED LIMIT.\n",
      "\n",
      "Increase the number of iterations (max_iter) or scale the data as shown in:\n",
      "    https://scikit-learn.org/stable/modules/preprocessing.html\n",
      "Please also refer to the documentation for alternative solver options:\n",
      "    https://scikit-learn.org/stable/modules/linear_model.html#logistic-regression\n",
      "  n_iter_i = _check_optimize_result(\n",
      "[I 2023-09-14 18:48:50,548] Trial 9 finished with value: 1.0 and parameters: {'C': 3.0543143537055877, 'max_iter': 525}. Best is trial 0 with value: 1.0.\n",
      "[I 2023-09-14 18:48:50,660] Trial 10 finished with value: 1.0 and parameters: {'C': 9.900659201296632, 'max_iter': 989}. Best is trial 0 with value: 1.0.\n",
      "/home/rahul/.local/lib/python3.10/site-packages/sklearn/linear_model/_logistic.py:460: ConvergenceWarning: lbfgs failed to converge (status=1):\n",
      "STOP: TOTAL NO. of ITERATIONS REACHED LIMIT.\n",
      "\n",
      "Increase the number of iterations (max_iter) or scale the data as shown in:\n",
      "    https://scikit-learn.org/stable/modules/preprocessing.html\n",
      "Please also refer to the documentation for alternative solver options:\n",
      "    https://scikit-learn.org/stable/modules/linear_model.html#logistic-regression\n",
      "  n_iter_i = _check_optimize_result(\n",
      "[I 2023-09-14 18:48:50,774] Trial 11 finished with value: 1.0 and parameters: {'C': 6.340477216929104, 'max_iter': 720}. Best is trial 0 with value: 1.0.\n",
      "/home/rahul/.local/lib/python3.10/site-packages/sklearn/linear_model/_logistic.py:460: ConvergenceWarning: lbfgs failed to converge (status=1):\n",
      "STOP: TOTAL NO. of ITERATIONS REACHED LIMIT.\n",
      "\n",
      "Increase the number of iterations (max_iter) or scale the data as shown in:\n",
      "    https://scikit-learn.org/stable/modules/preprocessing.html\n",
      "Please also refer to the documentation for alternative solver options:\n",
      "    https://scikit-learn.org/stable/modules/linear_model.html#logistic-regression\n",
      "  n_iter_i = _check_optimize_result(\n",
      "[I 2023-09-14 18:48:50,835] Trial 12 finished with value: 1.0 and parameters: {'C': 8.172463983816982, 'max_iter': 296}. Best is trial 0 with value: 1.0.\n",
      "/home/rahul/.local/lib/python3.10/site-packages/sklearn/linear_model/_logistic.py:460: ConvergenceWarning: lbfgs failed to converge (status=1):\n",
      "STOP: TOTAL NO. of ITERATIONS REACHED LIMIT.\n",
      "\n",
      "Increase the number of iterations (max_iter) or scale the data as shown in:\n",
      "    https://scikit-learn.org/stable/modules/preprocessing.html\n",
      "Please also refer to the documentation for alternative solver options:\n",
      "    https://scikit-learn.org/stable/modules/linear_model.html#logistic-regression\n",
      "  n_iter_i = _check_optimize_result(\n",
      "[I 2023-09-14 18:48:50,946] Trial 13 finished with value: 1.0 and parameters: {'C': 5.0203078643711, 'max_iter': 682}. Best is trial 0 with value: 1.0.\n",
      "/home/rahul/.local/lib/python3.10/site-packages/sklearn/linear_model/_logistic.py:460: ConvergenceWarning: lbfgs failed to converge (status=1):\n",
      "STOP: TOTAL NO. of ITERATIONS REACHED LIMIT.\n",
      "\n",
      "Increase the number of iterations (max_iter) or scale the data as shown in:\n",
      "    https://scikit-learn.org/stable/modules/preprocessing.html\n",
      "Please also refer to the documentation for alternative solver options:\n",
      "    https://scikit-learn.org/stable/modules/linear_model.html#logistic-regression\n",
      "  n_iter_i = _check_optimize_result(\n",
      "[I 2023-09-14 18:48:51,008] Trial 14 finished with value: 1.0 and parameters: {'C': 8.51377487708206, 'max_iter': 283}. Best is trial 0 with value: 1.0.\n",
      "/home/rahul/.local/lib/python3.10/site-packages/sklearn/linear_model/_logistic.py:460: ConvergenceWarning: lbfgs failed to converge (status=1):\n",
      "STOP: TOTAL NO. of ITERATIONS REACHED LIMIT.\n",
      "\n",
      "Increase the number of iterations (max_iter) or scale the data as shown in:\n",
      "    https://scikit-learn.org/stable/modules/preprocessing.html\n",
      "Please also refer to the documentation for alternative solver options:\n",
      "    https://scikit-learn.org/stable/modules/linear_model.html#logistic-regression\n",
      "  n_iter_i = _check_optimize_result(\n",
      "[I 2023-09-14 18:48:51,146] Trial 15 finished with value: 1.0 and parameters: {'C': 6.2879336859934805, 'max_iter': 907}. Best is trial 0 with value: 1.0.\n",
      "/home/rahul/.local/lib/python3.10/site-packages/sklearn/linear_model/_logistic.py:460: ConvergenceWarning: lbfgs failed to converge (status=1):\n",
      "STOP: TOTAL NO. of ITERATIONS REACHED LIMIT.\n",
      "\n",
      "Increase the number of iterations (max_iter) or scale the data as shown in:\n",
      "    https://scikit-learn.org/stable/modules/preprocessing.html\n",
      "Please also refer to the documentation for alternative solver options:\n",
      "    https://scikit-learn.org/stable/modules/linear_model.html#logistic-regression\n",
      "  n_iter_i = _check_optimize_result(\n",
      "[I 2023-09-14 18:48:51,287] Trial 16 finished with value: 1.0 and parameters: {'C': 7.398775552422401, 'max_iter': 652}. Best is trial 0 with value: 1.0.\n",
      "/home/rahul/.local/lib/python3.10/site-packages/sklearn/linear_model/_logistic.py:460: ConvergenceWarning: lbfgs failed to converge (status=1):\n",
      "STOP: TOTAL NO. of ITERATIONS REACHED LIMIT.\n",
      "\n",
      "Increase the number of iterations (max_iter) or scale the data as shown in:\n",
      "    https://scikit-learn.org/stable/modules/preprocessing.html\n",
      "Please also refer to the documentation for alternative solver options:\n",
      "    https://scikit-learn.org/stable/modules/linear_model.html#logistic-regression\n",
      "  n_iter_i = _check_optimize_result(\n",
      "[I 2023-09-14 18:48:51,386] Trial 17 finished with value: 1.0 and parameters: {'C': 5.5703870120103005, 'max_iter': 414}. Best is trial 0 with value: 1.0.\n",
      "/home/rahul/.local/lib/python3.10/site-packages/sklearn/linear_model/_logistic.py:460: ConvergenceWarning: lbfgs failed to converge (status=1):\n",
      "STOP: TOTAL NO. of ITERATIONS REACHED LIMIT.\n",
      "\n",
      "Increase the number of iterations (max_iter) or scale the data as shown in:\n",
      "    https://scikit-learn.org/stable/modules/preprocessing.html\n",
      "Please also refer to the documentation for alternative solver options:\n",
      "    https://scikit-learn.org/stable/modules/linear_model.html#logistic-regression\n",
      "  n_iter_i = _check_optimize_result(\n",
      "[I 2023-09-14 18:48:51,450] Trial 18 finished with value: 1.0 and parameters: {'C': 8.480195069736853, 'max_iter': 294}. Best is trial 0 with value: 1.0.\n",
      "/home/rahul/.local/lib/python3.10/site-packages/sklearn/linear_model/_logistic.py:460: ConvergenceWarning: lbfgs failed to converge (status=1):\n",
      "STOP: TOTAL NO. of ITERATIONS REACHED LIMIT.\n",
      "\n",
      "Increase the number of iterations (max_iter) or scale the data as shown in:\n",
      "    https://scikit-learn.org/stable/modules/preprocessing.html\n",
      "Please also refer to the documentation for alternative solver options:\n",
      "    https://scikit-learn.org/stable/modules/linear_model.html#logistic-regression\n",
      "  n_iter_i = _check_optimize_result(\n",
      "[I 2023-09-14 18:48:51,501] Trial 19 finished with value: 1.0 and parameters: {'C': 4.29970239949382, 'max_iter': 215}. Best is trial 0 with value: 1.0.\n",
      "/home/rahul/.local/lib/python3.10/site-packages/sklearn/linear_model/_logistic.py:460: ConvergenceWarning: lbfgs failed to converge (status=1):\n",
      "STOP: TOTAL NO. of ITERATIONS REACHED LIMIT.\n",
      "\n",
      "Increase the number of iterations (max_iter) or scale the data as shown in:\n",
      "    https://scikit-learn.org/stable/modules/preprocessing.html\n",
      "Please also refer to the documentation for alternative solver options:\n",
      "    https://scikit-learn.org/stable/modules/linear_model.html#logistic-regression\n",
      "  n_iter_i = _check_optimize_result(\n",
      "[I 2023-09-14 18:48:51,590] Trial 20 finished with value: 1.0 and parameters: {'C': 0.3808483990865641, 'max_iter': 481}. Best is trial 0 with value: 1.0.\n",
      "/home/rahul/.local/lib/python3.10/site-packages/sklearn/linear_model/_logistic.py:460: ConvergenceWarning: lbfgs failed to converge (status=1):\n",
      "STOP: TOTAL NO. of ITERATIONS REACHED LIMIT.\n",
      "\n",
      "Increase the number of iterations (max_iter) or scale the data as shown in:\n",
      "    https://scikit-learn.org/stable/modules/preprocessing.html\n",
      "Please also refer to the documentation for alternative solver options:\n",
      "    https://scikit-learn.org/stable/modules/linear_model.html#logistic-regression\n",
      "  n_iter_i = _check_optimize_result(\n",
      "[I 2023-09-14 18:48:51,642] Trial 21 finished with value: 1.0 and parameters: {'C': 3.4608801424297186, 'max_iter': 208}. Best is trial 0 with value: 1.0.\n",
      "/home/rahul/.local/lib/python3.10/site-packages/sklearn/linear_model/_logistic.py:460: ConvergenceWarning: lbfgs failed to converge (status=1):\n",
      "STOP: TOTAL NO. of ITERATIONS REACHED LIMIT.\n",
      "\n",
      "Increase the number of iterations (max_iter) or scale the data as shown in:\n",
      "    https://scikit-learn.org/stable/modules/preprocessing.html\n",
      "Please also refer to the documentation for alternative solver options:\n",
      "    https://scikit-learn.org/stable/modules/linear_model.html#logistic-regression\n",
      "  n_iter_i = _check_optimize_result(\n",
      "[I 2023-09-14 18:48:51,730] Trial 22 finished with value: 1.0 and parameters: {'C': 4.246647758908821, 'max_iter': 193}. Best is trial 0 with value: 1.0.\n",
      "/home/rahul/.local/lib/python3.10/site-packages/sklearn/linear_model/_logistic.py:460: ConvergenceWarning: lbfgs failed to converge (status=1):\n",
      "STOP: TOTAL NO. of ITERATIONS REACHED LIMIT.\n",
      "\n",
      "Increase the number of iterations (max_iter) or scale the data as shown in:\n",
      "    https://scikit-learn.org/stable/modules/preprocessing.html\n",
      "Please also refer to the documentation for alternative solver options:\n",
      "    https://scikit-learn.org/stable/modules/linear_model.html#logistic-regression\n",
      "  n_iter_i = _check_optimize_result(\n",
      "[I 2023-09-14 18:48:51,829] Trial 23 finished with value: 1.0 and parameters: {'C': 5.754230620586972, 'max_iter': 346}. Best is trial 0 with value: 1.0.\n",
      "/home/rahul/.local/lib/python3.10/site-packages/sklearn/linear_model/_logistic.py:460: ConvergenceWarning: lbfgs failed to converge (status=1):\n",
      "STOP: TOTAL NO. of ITERATIONS REACHED LIMIT.\n",
      "\n",
      "Increase the number of iterations (max_iter) or scale the data as shown in:\n",
      "    https://scikit-learn.org/stable/modules/preprocessing.html\n",
      "Please also refer to the documentation for alternative solver options:\n",
      "    https://scikit-learn.org/stable/modules/linear_model.html#logistic-regression\n",
      "  n_iter_i = _check_optimize_result(\n",
      "[I 2023-09-14 18:48:51,932] Trial 24 finished with value: 1.0 and parameters: {'C': 7.301453202339427, 'max_iter': 605}. Best is trial 0 with value: 1.0.\n",
      "/home/rahul/.local/lib/python3.10/site-packages/sklearn/linear_model/_logistic.py:460: ConvergenceWarning: lbfgs failed to converge (status=1):\n",
      "STOP: TOTAL NO. of ITERATIONS REACHED LIMIT.\n",
      "\n",
      "Increase the number of iterations (max_iter) or scale the data as shown in:\n",
      "    https://scikit-learn.org/stable/modules/preprocessing.html\n",
      "Please also refer to the documentation for alternative solver options:\n",
      "    https://scikit-learn.org/stable/modules/linear_model.html#logistic-regression\n",
      "  n_iter_i = _check_optimize_result(\n",
      "[I 2023-09-14 18:48:51,968] Trial 25 finished with value: 1.0 and parameters: {'C': 6.871987248696859, 'max_iter': 103}. Best is trial 0 with value: 1.0.\n",
      "[I 2023-09-14 18:48:52,085] Trial 26 finished with value: 1.0 and parameters: {'C': 5.810085089034312, 'max_iter': 806}. Best is trial 0 with value: 1.0.\n",
      "/home/rahul/.local/lib/python3.10/site-packages/sklearn/linear_model/_logistic.py:460: ConvergenceWarning: lbfgs failed to converge (status=1):\n",
      "STOP: TOTAL NO. of ITERATIONS REACHED LIMIT.\n",
      "\n",
      "Increase the number of iterations (max_iter) or scale the data as shown in:\n",
      "    https://scikit-learn.org/stable/modules/preprocessing.html\n",
      "Please also refer to the documentation for alternative solver options:\n",
      "    https://scikit-learn.org/stable/modules/linear_model.html#logistic-regression\n",
      "  n_iter_i = _check_optimize_result(\n",
      "[I 2023-09-14 18:48:52,133] Trial 27 finished with value: 1.0 and parameters: {'C': 7.940781282235821, 'max_iter': 188}. Best is trial 0 with value: 1.0.\n",
      "/home/rahul/.local/lib/python3.10/site-packages/sklearn/linear_model/_logistic.py:460: ConvergenceWarning: lbfgs failed to converge (status=1):\n",
      "STOP: TOTAL NO. of ITERATIONS REACHED LIMIT.\n",
      "\n",
      "Increase the number of iterations (max_iter) or scale the data as shown in:\n",
      "    https://scikit-learn.org/stable/modules/preprocessing.html\n",
      "Please also refer to the documentation for alternative solver options:\n",
      "    https://scikit-learn.org/stable/modules/linear_model.html#logistic-regression\n",
      "  n_iter_i = _check_optimize_result(\n",
      "[I 2023-09-14 18:48:52,217] Trial 28 finished with value: 1.0 and parameters: {'C': 6.790817493790592, 'max_iter': 465}. Best is trial 0 with value: 1.0.\n",
      "/home/rahul/.local/lib/python3.10/site-packages/sklearn/linear_model/_logistic.py:460: ConvergenceWarning: lbfgs failed to converge (status=1):\n",
      "STOP: TOTAL NO. of ITERATIONS REACHED LIMIT.\n",
      "\n",
      "Increase the number of iterations (max_iter) or scale the data as shown in:\n",
      "    https://scikit-learn.org/stable/modules/preprocessing.html\n",
      "Please also refer to the documentation for alternative solver options:\n",
      "    https://scikit-learn.org/stable/modules/linear_model.html#logistic-regression\n",
      "  n_iter_i = _check_optimize_result(\n",
      "[I 2023-09-14 18:48:52,263] Trial 29 finished with value: 1.0 and parameters: {'C': 6.613804889630368, 'max_iter': 144}. Best is trial 0 with value: 1.0.\n",
      "/home/rahul/.local/lib/python3.10/site-packages/sklearn/linear_model/_logistic.py:460: ConvergenceWarning: lbfgs failed to converge (status=1):\n",
      "STOP: TOTAL NO. of ITERATIONS REACHED LIMIT.\n",
      "\n",
      "Increase the number of iterations (max_iter) or scale the data as shown in:\n",
      "    https://scikit-learn.org/stable/modules/preprocessing.html\n",
      "Please also refer to the documentation for alternative solver options:\n",
      "    https://scikit-learn.org/stable/modules/linear_model.html#logistic-regression\n",
      "  n_iter_i = _check_optimize_result(\n",
      "[I 2023-09-14 18:48:52,326] Trial 30 finished with value: 1.0 and parameters: {'C': 9.031843212093333, 'max_iter': 252}. Best is trial 0 with value: 1.0.\n",
      "/home/rahul/.local/lib/python3.10/site-packages/sklearn/linear_model/_logistic.py:460: ConvergenceWarning: lbfgs failed to converge (status=1):\n",
      "STOP: TOTAL NO. of ITERATIONS REACHED LIMIT.\n",
      "\n",
      "Increase the number of iterations (max_iter) or scale the data as shown in:\n",
      "    https://scikit-learn.org/stable/modules/preprocessing.html\n",
      "Please also refer to the documentation for alternative solver options:\n",
      "    https://scikit-learn.org/stable/modules/linear_model.html#logistic-regression\n",
      "  n_iter_i = _check_optimize_result(\n",
      "[I 2023-09-14 18:48:52,375] Trial 31 finished with value: 1.0 and parameters: {'C': 7.70944857396426, 'max_iter': 151}. Best is trial 0 with value: 1.0.\n",
      "/home/rahul/.local/lib/python3.10/site-packages/sklearn/linear_model/_logistic.py:460: ConvergenceWarning: lbfgs failed to converge (status=1):\n",
      "STOP: TOTAL NO. of ITERATIONS REACHED LIMIT.\n",
      "\n",
      "Increase the number of iterations (max_iter) or scale the data as shown in:\n",
      "    https://scikit-learn.org/stable/modules/preprocessing.html\n",
      "Please also refer to the documentation for alternative solver options:\n",
      "    https://scikit-learn.org/stable/modules/linear_model.html#logistic-regression\n",
      "  n_iter_i = _check_optimize_result(\n",
      "[I 2023-09-14 18:48:52,412] Trial 32 finished with value: 1.0 and parameters: {'C': 7.060231572158792, 'max_iter': 109}. Best is trial 0 with value: 1.0.\n",
      "/home/rahul/.local/lib/python3.10/site-packages/sklearn/linear_model/_logistic.py:460: ConvergenceWarning: lbfgs failed to converge (status=1):\n",
      "STOP: TOTAL NO. of ITERATIONS REACHED LIMIT.\n",
      "\n",
      "Increase the number of iterations (max_iter) or scale the data as shown in:\n",
      "    https://scikit-learn.org/stable/modules/preprocessing.html\n",
      "Please also refer to the documentation for alternative solver options:\n",
      "    https://scikit-learn.org/stable/modules/linear_model.html#logistic-regression\n",
      "  n_iter_i = _check_optimize_result(\n",
      "[I 2023-09-14 18:48:52,492] Trial 33 finished with value: 1.0 and parameters: {'C': 6.052818276185722, 'max_iter': 348}. Best is trial 0 with value: 1.0.\n",
      "[I 2023-09-14 18:48:52,580] Trial 34 finished with value: 1.0 and parameters: {'C': 2.263950539221734, 'max_iter': 785}. Best is trial 0 with value: 1.0.\n",
      "/home/rahul/.local/lib/python3.10/site-packages/sklearn/linear_model/_logistic.py:460: ConvergenceWarning: lbfgs failed to converge (status=1):\n",
      "STOP: TOTAL NO. of ITERATIONS REACHED LIMIT.\n",
      "\n",
      "Increase the number of iterations (max_iter) or scale the data as shown in:\n",
      "    https://scikit-learn.org/stable/modules/preprocessing.html\n",
      "Please also refer to the documentation for alternative solver options:\n",
      "    https://scikit-learn.org/stable/modules/linear_model.html#logistic-regression\n",
      "  n_iter_i = _check_optimize_result(\n",
      "[I 2023-09-14 18:48:52,648] Trial 35 finished with value: 1.0 and parameters: {'C': 5.370297342128792, 'max_iter': 252}. Best is trial 0 with value: 1.0.\n",
      "/home/rahul/.local/lib/python3.10/site-packages/sklearn/linear_model/_logistic.py:460: ConvergenceWarning: lbfgs failed to converge (status=1):\n",
      "STOP: TOTAL NO. of ITERATIONS REACHED LIMIT.\n",
      "\n",
      "Increase the number of iterations (max_iter) or scale the data as shown in:\n",
      "    https://scikit-learn.org/stable/modules/preprocessing.html\n",
      "Please also refer to the documentation for alternative solver options:\n",
      "    https://scikit-learn.org/stable/modules/linear_model.html#logistic-regression\n",
      "  n_iter_i = _check_optimize_result(\n",
      "[I 2023-09-14 18:48:52,696] Trial 36 finished with value: 1.0 and parameters: {'C': 6.665305299214119, 'max_iter': 164}. Best is trial 0 with value: 1.0.\n",
      "/home/rahul/.local/lib/python3.10/site-packages/sklearn/linear_model/_logistic.py:460: ConvergenceWarning: lbfgs failed to converge (status=1):\n",
      "STOP: TOTAL NO. of ITERATIONS REACHED LIMIT.\n",
      "\n",
      "Increase the number of iterations (max_iter) or scale the data as shown in:\n",
      "    https://scikit-learn.org/stable/modules/preprocessing.html\n",
      "Please also refer to the documentation for alternative solver options:\n",
      "    https://scikit-learn.org/stable/modules/linear_model.html#logistic-regression\n",
      "  n_iter_i = _check_optimize_result(\n",
      "[I 2023-09-14 18:48:52,790] Trial 37 finished with value: 1.0 and parameters: {'C': 7.536510087217959, 'max_iter': 346}. Best is trial 0 with value: 1.0.\n",
      "/home/rahul/.local/lib/python3.10/site-packages/sklearn/linear_model/_logistic.py:460: ConvergenceWarning: lbfgs failed to converge (status=1):\n",
      "STOP: TOTAL NO. of ITERATIONS REACHED LIMIT.\n",
      "\n",
      "Increase the number of iterations (max_iter) or scale the data as shown in:\n",
      "    https://scikit-learn.org/stable/modules/preprocessing.html\n",
      "Please also refer to the documentation for alternative solver options:\n",
      "    https://scikit-learn.org/stable/modules/linear_model.html#logistic-regression\n",
      "  n_iter_i = _check_optimize_result(\n",
      "[I 2023-09-14 18:48:52,908] Trial 38 finished with value: 1.0 and parameters: {'C': 9.217430082322778, 'max_iter': 594}. Best is trial 0 with value: 1.0.\n",
      "[I 2023-09-14 18:48:52,986] Trial 39 finished with value: 1.0 and parameters: {'C': 4.984871268254573, 'max_iter': 388}. Best is trial 0 with value: 1.0.\n",
      "/home/rahul/.local/lib/python3.10/site-packages/sklearn/linear_model/_logistic.py:460: ConvergenceWarning: lbfgs failed to converge (status=1):\n",
      "STOP: TOTAL NO. of ITERATIONS REACHED LIMIT.\n",
      "\n",
      "Increase the number of iterations (max_iter) or scale the data as shown in:\n",
      "    https://scikit-learn.org/stable/modules/preprocessing.html\n",
      "Please also refer to the documentation for alternative solver options:\n",
      "    https://scikit-learn.org/stable/modules/linear_model.html#logistic-regression\n",
      "  n_iter_i = _check_optimize_result(\n",
      "[I 2023-09-14 18:48:53,062] Trial 40 finished with value: 1.0 and parameters: {'C': 6.247642823905384, 'max_iter': 255}. Best is trial 0 with value: 1.0.\n",
      "[I 2023-09-14 18:48:53,164] Trial 41 finished with value: 1.0 and parameters: {'C': 9.805644864341561, 'max_iter': 935}. Best is trial 0 with value: 1.0.\n",
      "[I 2023-09-14 18:48:53,293] Trial 42 finished with value: 1.0 and parameters: {'C': 8.038522865532961, 'max_iter': 809}. Best is trial 0 with value: 1.0.\n",
      "/home/rahul/.local/lib/python3.10/site-packages/sklearn/linear_model/_logistic.py:460: ConvergenceWarning: lbfgs failed to converge (status=1):\n",
      "STOP: TOTAL NO. of ITERATIONS REACHED LIMIT.\n",
      "\n",
      "Increase the number of iterations (max_iter) or scale the data as shown in:\n",
      "    https://scikit-learn.org/stable/modules/preprocessing.html\n",
      "Please also refer to the documentation for alternative solver options:\n",
      "    https://scikit-learn.org/stable/modules/linear_model.html#logistic-regression\n",
      "  n_iter_i = _check_optimize_result(\n",
      "[I 2023-09-14 18:48:53,442] Trial 43 finished with value: 1.0 and parameters: {'C': 8.47118166434145, 'max_iter': 540}. Best is trial 0 with value: 1.0.\n",
      "/home/rahul/.local/lib/python3.10/site-packages/sklearn/linear_model/_logistic.py:460: ConvergenceWarning: lbfgs failed to converge (status=1):\n",
      "STOP: TOTAL NO. of ITERATIONS REACHED LIMIT.\n",
      "\n",
      "Increase the number of iterations (max_iter) or scale the data as shown in:\n",
      "    https://scikit-learn.org/stable/modules/preprocessing.html\n",
      "Please also refer to the documentation for alternative solver options:\n",
      "    https://scikit-learn.org/stable/modules/linear_model.html#logistic-regression\n",
      "  n_iter_i = _check_optimize_result(\n",
      "[I 2023-09-14 18:48:53,571] Trial 44 finished with value: 1.0 and parameters: {'C': 7.076207341328532, 'max_iter': 721}. Best is trial 0 with value: 1.0.\n",
      "[I 2023-09-14 18:48:53,737] Trial 45 finished with value: 1.0 and parameters: {'C': 7.512284414010409, 'max_iter': 856}. Best is trial 0 with value: 1.0.\n",
      "/home/rahul/.local/lib/python3.10/site-packages/sklearn/linear_model/_logistic.py:460: ConvergenceWarning: lbfgs failed to converge (status=1):\n",
      "STOP: TOTAL NO. of ITERATIONS REACHED LIMIT.\n",
      "\n",
      "Increase the number of iterations (max_iter) or scale the data as shown in:\n",
      "    https://scikit-learn.org/stable/modules/preprocessing.html\n",
      "Please also refer to the documentation for alternative solver options:\n",
      "    https://scikit-learn.org/stable/modules/linear_model.html#logistic-regression\n",
      "  n_iter_i = _check_optimize_result(\n",
      "[I 2023-09-14 18:48:53,830] Trial 46 finished with value: 1.0 and parameters: {'C': 7.93318756898644, 'max_iter': 465}. Best is trial 0 with value: 1.0.\n",
      "/home/rahul/.local/lib/python3.10/site-packages/sklearn/linear_model/_logistic.py:460: ConvergenceWarning: lbfgs failed to converge (status=1):\n",
      "STOP: TOTAL NO. of ITERATIONS REACHED LIMIT.\n",
      "\n",
      "Increase the number of iterations (max_iter) or scale the data as shown in:\n",
      "    https://scikit-learn.org/stable/modules/preprocessing.html\n",
      "Please also refer to the documentation for alternative solver options:\n",
      "    https://scikit-learn.org/stable/modules/linear_model.html#logistic-regression\n",
      "  n_iter_i = _check_optimize_result(\n",
      "[I 2023-09-14 18:48:53,955] Trial 47 finished with value: 1.0 and parameters: {'C': 8.922802576661255, 'max_iter': 732}. Best is trial 0 with value: 1.0.\n",
      "[I 2023-09-14 18:48:54,090] Trial 48 finished with value: 1.0 and parameters: {'C': 6.43356067657811, 'max_iter': 642}. Best is trial 0 with value: 1.0.\n",
      "/home/rahul/.local/lib/python3.10/site-packages/sklearn/linear_model/_logistic.py:460: ConvergenceWarning: lbfgs failed to converge (status=1):\n",
      "STOP: TOTAL NO. of ITERATIONS REACHED LIMIT.\n",
      "\n",
      "Increase the number of iterations (max_iter) or scale the data as shown in:\n",
      "    https://scikit-learn.org/stable/modules/preprocessing.html\n",
      "Please also refer to the documentation for alternative solver options:\n",
      "    https://scikit-learn.org/stable/modules/linear_model.html#logistic-regression\n",
      "  n_iter_i = _check_optimize_result(\n",
      "[I 2023-09-14 18:48:54,142] Trial 49 finished with value: 1.0 and parameters: {'C': 8.279609468642523, 'max_iter': 134}. Best is trial 0 with value: 1.0.\n",
      "[I 2023-09-14 18:48:54,232] Trial 50 finished with value: 1.0 and parameters: {'C': 7.2825106601472545, 'max_iter': 956}. Best is trial 0 with value: 1.0.\n",
      "/home/rahul/.local/lib/python3.10/site-packages/sklearn/linear_model/_logistic.py:460: ConvergenceWarning: lbfgs failed to converge (status=1):\n",
      "STOP: TOTAL NO. of ITERATIONS REACHED LIMIT.\n",
      "\n",
      "Increase the number of iterations (max_iter) or scale the data as shown in:\n",
      "    https://scikit-learn.org/stable/modules/preprocessing.html\n",
      "Please also refer to the documentation for alternative solver options:\n",
      "    https://scikit-learn.org/stable/modules/linear_model.html#logistic-regression\n",
      "  n_iter_i = _check_optimize_result(\n",
      "[I 2023-09-14 18:48:54,289] Trial 51 finished with value: 1.0 and parameters: {'C': 0.9574824694259908, 'max_iter': 188}. Best is trial 0 with value: 1.0.\n",
      "/home/rahul/.local/lib/python3.10/site-packages/sklearn/linear_model/_logistic.py:460: ConvergenceWarning: lbfgs failed to converge (status=1):\n",
      "STOP: TOTAL NO. of ITERATIONS REACHED LIMIT.\n",
      "\n",
      "Increase the number of iterations (max_iter) or scale the data as shown in:\n",
      "    https://scikit-learn.org/stable/modules/preprocessing.html\n",
      "Please also refer to the documentation for alternative solver options:\n",
      "    https://scikit-learn.org/stable/modules/linear_model.html#logistic-regression\n",
      "  n_iter_i = _check_optimize_result(\n",
      "[I 2023-09-14 18:48:54,345] Trial 52 finished with value: 1.0 and parameters: {'C': 2.2469985564375556, 'max_iter': 230}. Best is trial 0 with value: 1.0.\n",
      "/home/rahul/.local/lib/python3.10/site-packages/sklearn/linear_model/_logistic.py:460: ConvergenceWarning: lbfgs failed to converge (status=1):\n",
      "STOP: TOTAL NO. of ITERATIONS REACHED LIMIT.\n",
      "\n",
      "Increase the number of iterations (max_iter) or scale the data as shown in:\n",
      "    https://scikit-learn.org/stable/modules/preprocessing.html\n",
      "Please also refer to the documentation for alternative solver options:\n",
      "    https://scikit-learn.org/stable/modules/linear_model.html#logistic-regression\n",
      "  n_iter_i = _check_optimize_result(\n",
      "[I 2023-09-14 18:48:54,389] Trial 53 finished with value: 1.0 and parameters: {'C': 1.780755733141147, 'max_iter': 111}. Best is trial 0 with value: 1.0.\n",
      "/home/rahul/.local/lib/python3.10/site-packages/sklearn/linear_model/_logistic.py:460: ConvergenceWarning: lbfgs failed to converge (status=1):\n",
      "STOP: TOTAL NO. of ITERATIONS REACHED LIMIT.\n",
      "\n",
      "Increase the number of iterations (max_iter) or scale the data as shown in:\n",
      "    https://scikit-learn.org/stable/modules/preprocessing.html\n",
      "Please also refer to the documentation for alternative solver options:\n",
      "    https://scikit-learn.org/stable/modules/linear_model.html#logistic-regression\n",
      "  n_iter_i = _check_optimize_result(\n",
      "[I 2023-09-14 18:48:54,439] Trial 54 finished with value: 1.0 and parameters: {'C': 2.7775273361601602, 'max_iter': 171}. Best is trial 0 with value: 1.0.\n",
      "/home/rahul/.local/lib/python3.10/site-packages/sklearn/linear_model/_logistic.py:460: ConvergenceWarning: lbfgs failed to converge (status=1):\n",
      "STOP: TOTAL NO. of ITERATIONS REACHED LIMIT.\n",
      "\n",
      "Increase the number of iterations (max_iter) or scale the data as shown in:\n",
      "    https://scikit-learn.org/stable/modules/preprocessing.html\n",
      "Please also refer to the documentation for alternative solver options:\n",
      "    https://scikit-learn.org/stable/modules/linear_model.html#logistic-regression\n",
      "  n_iter_i = _check_optimize_result(\n",
      "[I 2023-09-14 18:48:54,508] Trial 55 finished with value: 1.0 and parameters: {'C': 6.083872128506375, 'max_iter': 310}. Best is trial 0 with value: 1.0.\n",
      "[I 2023-09-14 18:48:54,581] Trial 56 finished with value: 1.0 and parameters: {'C': 3.5406493954248344, 'max_iter': 513}. Best is trial 0 with value: 1.0.\n",
      "/home/rahul/.local/lib/python3.10/site-packages/sklearn/linear_model/_logistic.py:460: ConvergenceWarning: lbfgs failed to converge (status=1):\n",
      "STOP: TOTAL NO. of ITERATIONS REACHED LIMIT.\n",
      "\n",
      "Increase the number of iterations (max_iter) or scale the data as shown in:\n",
      "    https://scikit-learn.org/stable/modules/preprocessing.html\n",
      "Please also refer to the documentation for alternative solver options:\n",
      "    https://scikit-learn.org/stable/modules/linear_model.html#logistic-regression\n",
      "  n_iter_i = _check_optimize_result(\n",
      "[I 2023-09-14 18:48:54,640] Trial 57 finished with value: 1.0 and parameters: {'C': 1.5823988042103658, 'max_iter': 220}. Best is trial 0 with value: 1.0.\n",
      "/home/rahul/.local/lib/python3.10/site-packages/sklearn/linear_model/_logistic.py:460: ConvergenceWarning: lbfgs failed to converge (status=1):\n",
      "STOP: TOTAL NO. of ITERATIONS REACHED LIMIT.\n",
      "\n",
      "Increase the number of iterations (max_iter) or scale the data as shown in:\n",
      "    https://scikit-learn.org/stable/modules/preprocessing.html\n",
      "Please also refer to the documentation for alternative solver options:\n",
      "    https://scikit-learn.org/stable/modules/linear_model.html#logistic-regression\n",
      "  n_iter_i = _check_optimize_result(\n",
      "[I 2023-09-14 18:48:54,696] Trial 58 finished with value: 1.0 and parameters: {'C': 6.494317392132777, 'max_iter': 135}. Best is trial 0 with value: 1.0.\n",
      "/home/rahul/.local/lib/python3.10/site-packages/sklearn/linear_model/_logistic.py:460: ConvergenceWarning: lbfgs failed to converge (status=1):\n",
      "STOP: TOTAL NO. of ITERATIONS REACHED LIMIT.\n",
      "\n",
      "Increase the number of iterations (max_iter) or scale the data as shown in:\n",
      "    https://scikit-learn.org/stable/modules/preprocessing.html\n",
      "Please also refer to the documentation for alternative solver options:\n",
      "    https://scikit-learn.org/stable/modules/linear_model.html#logistic-regression\n",
      "  n_iter_i = _check_optimize_result(\n",
      "[I 2023-09-14 18:48:54,775] Trial 59 finished with value: 1.0 and parameters: {'C': 6.882733485856421, 'max_iter': 417}. Best is trial 0 with value: 1.0.\n",
      "[I 2023-09-14 18:48:54,873] Trial 60 finished with value: 1.0 and parameters: {'C': 7.6701214301038245, 'max_iter': 584}. Best is trial 0 with value: 1.0.\n",
      "/home/rahul/.local/lib/python3.10/site-packages/sklearn/linear_model/_logistic.py:460: ConvergenceWarning: lbfgs failed to converge (status=1):\n",
      "STOP: TOTAL NO. of ITERATIONS REACHED LIMIT.\n",
      "\n",
      "Increase the number of iterations (max_iter) or scale the data as shown in:\n",
      "    https://scikit-learn.org/stable/modules/preprocessing.html\n",
      "Please also refer to the documentation for alternative solver options:\n",
      "    https://scikit-learn.org/stable/modules/linear_model.html#logistic-regression\n",
      "  n_iter_i = _check_optimize_result(\n",
      "[I 2023-09-14 18:48:54,942] Trial 61 finished with value: 1.0 and parameters: {'C': 0.15467104335210724, 'max_iter': 320}. Best is trial 0 with value: 1.0.\n",
      "/home/rahul/.local/lib/python3.10/site-packages/sklearn/linear_model/_logistic.py:460: ConvergenceWarning: lbfgs failed to converge (status=1):\n",
      "STOP: TOTAL NO. of ITERATIONS REACHED LIMIT.\n",
      "\n",
      "Increase the number of iterations (max_iter) or scale the data as shown in:\n",
      "    https://scikit-learn.org/stable/modules/preprocessing.html\n",
      "Please also refer to the documentation for alternative solver options:\n",
      "    https://scikit-learn.org/stable/modules/linear_model.html#logistic-regression\n",
      "  n_iter_i = _check_optimize_result(\n",
      "[I 2023-09-14 18:48:55,007] Trial 62 finished with value: 1.0 and parameters: {'C': 0.878945566926874, 'max_iter': 272}. Best is trial 0 with value: 1.0.\n",
      "/home/rahul/.local/lib/python3.10/site-packages/sklearn/linear_model/_logistic.py:460: ConvergenceWarning: lbfgs failed to converge (status=1):\n",
      "STOP: TOTAL NO. of ITERATIONS REACHED LIMIT.\n",
      "\n",
      "Increase the number of iterations (max_iter) or scale the data as shown in:\n",
      "    https://scikit-learn.org/stable/modules/preprocessing.html\n",
      "Please also refer to the documentation for alternative solver options:\n",
      "    https://scikit-learn.org/stable/modules/linear_model.html#logistic-regression\n",
      "  n_iter_i = _check_optimize_result(\n",
      "[I 2023-09-14 18:48:55,085] Trial 63 finished with value: 1.0 and parameters: {'C': 5.626381541908382, 'max_iter': 404}. Best is trial 0 with value: 1.0.\n",
      "/home/rahul/.local/lib/python3.10/site-packages/sklearn/linear_model/_logistic.py:460: ConvergenceWarning: lbfgs failed to converge (status=1):\n",
      "STOP: TOTAL NO. of ITERATIONS REACHED LIMIT.\n",
      "\n",
      "Increase the number of iterations (max_iter) or scale the data as shown in:\n",
      "    https://scikit-learn.org/stable/modules/preprocessing.html\n",
      "Please also refer to the documentation for alternative solver options:\n",
      "    https://scikit-learn.org/stable/modules/linear_model.html#logistic-regression\n",
      "  n_iter_i = _check_optimize_result(\n",
      "[I 2023-09-14 18:48:55,127] Trial 64 finished with value: 1.0 and parameters: {'C': 4.5002232997979075, 'max_iter': 100}. Best is trial 0 with value: 1.0.\n",
      "[I 2023-09-14 18:48:55,227] Trial 65 finished with value: 1.0 and parameters: {'C': 7.122151848551678, 'max_iter': 497}. Best is trial 0 with value: 1.0.\n",
      "/home/rahul/.local/lib/python3.10/site-packages/sklearn/linear_model/_logistic.py:460: ConvergenceWarning: lbfgs failed to converge (status=1):\n",
      "STOP: TOTAL NO. of ITERATIONS REACHED LIMIT.\n",
      "\n",
      "Increase the number of iterations (max_iter) or scale the data as shown in:\n",
      "    https://scikit-learn.org/stable/modules/preprocessing.html\n",
      "Please also refer to the documentation for alternative solver options:\n",
      "    https://scikit-learn.org/stable/modules/linear_model.html#logistic-regression\n",
      "  n_iter_i = _check_optimize_result(\n",
      "[I 2023-09-14 18:48:55,287] Trial 66 finished with value: 1.0 and parameters: {'C': 5.896034889436625, 'max_iter': 188}. Best is trial 0 with value: 1.0.\n",
      "/home/rahul/.local/lib/python3.10/site-packages/sklearn/linear_model/_logistic.py:460: ConvergenceWarning: lbfgs failed to converge (status=1):\n",
      "STOP: TOTAL NO. of ITERATIONS REACHED LIMIT.\n",
      "\n",
      "Increase the number of iterations (max_iter) or scale the data as shown in:\n",
      "    https://scikit-learn.org/stable/modules/preprocessing.html\n",
      "Please also refer to the documentation for alternative solver options:\n",
      "    https://scikit-learn.org/stable/modules/linear_model.html#logistic-regression\n",
      "  n_iter_i = _check_optimize_result(\n",
      "[I 2023-09-14 18:48:55,349] Trial 67 finished with value: 1.0 and parameters: {'C': 8.593088229098262, 'max_iter': 234}. Best is trial 0 with value: 1.0.\n",
      "[I 2023-09-14 18:48:55,454] Trial 68 finished with value: 1.0 and parameters: {'C': 6.334591641979114, 'max_iter': 570}. Best is trial 0 with value: 1.0.\n",
      "/home/rahul/.local/lib/python3.10/site-packages/sklearn/linear_model/_logistic.py:460: ConvergenceWarning: lbfgs failed to converge (status=1):\n",
      "STOP: TOTAL NO. of ITERATIONS REACHED LIMIT.\n",
      "\n",
      "Increase the number of iterations (max_iter) or scale the data as shown in:\n",
      "    https://scikit-learn.org/stable/modules/preprocessing.html\n",
      "Please also refer to the documentation for alternative solver options:\n",
      "    https://scikit-learn.org/stable/modules/linear_model.html#logistic-regression\n",
      "  n_iter_i = _check_optimize_result(\n",
      "[I 2023-09-14 18:48:55,605] Trial 69 finished with value: 1.0 and parameters: {'C': 5.291735291616605, 'max_iter': 675}. Best is trial 0 with value: 1.0.\n",
      "/home/rahul/.local/lib/python3.10/site-packages/sklearn/linear_model/_logistic.py:460: ConvergenceWarning: lbfgs failed to converge (status=1):\n",
      "STOP: TOTAL NO. of ITERATIONS REACHED LIMIT.\n",
      "\n",
      "Increase the number of iterations (max_iter) or scale the data as shown in:\n",
      "    https://scikit-learn.org/stable/modules/preprocessing.html\n",
      "Please also refer to the documentation for alternative solver options:\n",
      "    https://scikit-learn.org/stable/modules/linear_model.html#logistic-regression\n",
      "  n_iter_i = _check_optimize_result(\n",
      "[I 2023-09-14 18:48:55,696] Trial 70 finished with value: 1.0 and parameters: {'C': 6.729705760360488, 'max_iter': 443}. Best is trial 0 with value: 1.0.\n",
      "[I 2023-09-14 18:48:55,798] Trial 71 finished with value: 1.0 and parameters: {'C': 3.776000242064926, 'max_iter': 612}. Best is trial 0 with value: 1.0.\n",
      "/home/rahul/.local/lib/python3.10/site-packages/sklearn/linear_model/_logistic.py:460: ConvergenceWarning: lbfgs failed to converge (status=1):\n",
      "STOP: TOTAL NO. of ITERATIONS REACHED LIMIT.\n",
      "\n",
      "Increase the number of iterations (max_iter) or scale the data as shown in:\n",
      "    https://scikit-learn.org/stable/modules/preprocessing.html\n",
      "Please also refer to the documentation for alternative solver options:\n",
      "    https://scikit-learn.org/stable/modules/linear_model.html#logistic-regression\n",
      "  n_iter_i = _check_optimize_result(\n",
      "[I 2023-09-14 18:48:55,895] Trial 72 finished with value: 1.0 and parameters: {'C': 4.895961773091307, 'max_iter': 547}. Best is trial 0 with value: 1.0.\n",
      "/home/rahul/.local/lib/python3.10/site-packages/sklearn/linear_model/_logistic.py:460: ConvergenceWarning: lbfgs failed to converge (status=1):\n",
      "STOP: TOTAL NO. of ITERATIONS REACHED LIMIT.\n",
      "\n",
      "Increase the number of iterations (max_iter) or scale the data as shown in:\n",
      "    https://scikit-learn.org/stable/modules/preprocessing.html\n",
      "Please also refer to the documentation for alternative solver options:\n",
      "    https://scikit-learn.org/stable/modules/linear_model.html#logistic-regression\n",
      "  n_iter_i = _check_optimize_result(\n",
      "[I 2023-09-14 18:48:55,947] Trial 73 finished with value: 1.0 and parameters: {'C': 3.0411939020664227, 'max_iter': 161}. Best is trial 0 with value: 1.0.\n",
      "/home/rahul/.local/lib/python3.10/site-packages/sklearn/linear_model/_logistic.py:460: ConvergenceWarning: lbfgs failed to converge (status=1):\n",
      "STOP: TOTAL NO. of ITERATIONS REACHED LIMIT.\n",
      "\n",
      "Increase the number of iterations (max_iter) or scale the data as shown in:\n",
      "    https://scikit-learn.org/stable/modules/preprocessing.html\n",
      "Please also refer to the documentation for alternative solver options:\n",
      "    https://scikit-learn.org/stable/modules/linear_model.html#logistic-regression\n",
      "  n_iter_i = _check_optimize_result(\n",
      "[I 2023-09-14 18:48:55,998] Trial 74 finished with value: 1.0 and parameters: {'C': 7.779287409504202, 'max_iter': 127}. Best is trial 0 with value: 1.0.\n",
      "/home/rahul/.local/lib/python3.10/site-packages/sklearn/linear_model/_logistic.py:460: ConvergenceWarning: lbfgs failed to converge (status=1):\n",
      "STOP: TOTAL NO. of ITERATIONS REACHED LIMIT.\n",
      "\n",
      "Increase the number of iterations (max_iter) or scale the data as shown in:\n",
      "    https://scikit-learn.org/stable/modules/preprocessing.html\n",
      "Please also refer to the documentation for alternative solver options:\n",
      "    https://scikit-learn.org/stable/modules/linear_model.html#logistic-regression\n",
      "  n_iter_i = _check_optimize_result(\n",
      "[I 2023-09-14 18:48:56,078] Trial 75 finished with value: 1.0 and parameters: {'C': 6.003267225447158, 'max_iter': 376}. Best is trial 0 with value: 1.0.\n",
      "/home/rahul/.local/lib/python3.10/site-packages/sklearn/linear_model/_logistic.py:460: ConvergenceWarning: lbfgs failed to converge (status=1):\n",
      "STOP: TOTAL NO. of ITERATIONS REACHED LIMIT.\n",
      "\n",
      "Increase the number of iterations (max_iter) or scale the data as shown in:\n",
      "    https://scikit-learn.org/stable/modules/preprocessing.html\n",
      "Please also refer to the documentation for alternative solver options:\n",
      "    https://scikit-learn.org/stable/modules/linear_model.html#logistic-regression\n",
      "  n_iter_i = _check_optimize_result(\n",
      "[I 2023-09-14 18:48:56,177] Trial 76 finished with value: 1.0 and parameters: {'C': 5.726374945309241, 'max_iter': 522}. Best is trial 0 with value: 1.0.\n",
      "[I 2023-09-14 18:48:56,275] Trial 77 finished with value: 1.0 and parameters: {'C': 8.135653708957529, 'max_iter': 633}. Best is trial 0 with value: 1.0.\n",
      "[I 2023-09-14 18:48:56,364] Trial 78 finished with value: 1.0 and parameters: {'C': 7.328182136168052, 'max_iter': 685}. Best is trial 0 with value: 1.0.\n",
      "/home/rahul/.local/lib/python3.10/site-packages/sklearn/linear_model/_logistic.py:460: ConvergenceWarning: lbfgs failed to converge (status=1):\n",
      "STOP: TOTAL NO. of ITERATIONS REACHED LIMIT.\n",
      "\n",
      "Increase the number of iterations (max_iter) or scale the data as shown in:\n",
      "    https://scikit-learn.org/stable/modules/preprocessing.html\n",
      "Please also refer to the documentation for alternative solver options:\n",
      "    https://scikit-learn.org/stable/modules/linear_model.html#logistic-regression\n",
      "  n_iter_i = _check_optimize_result(\n",
      "[I 2023-09-14 18:48:56,488] Trial 79 finished with value: 1.0 and parameters: {'C': 5.267314117431156, 'max_iter': 763}. Best is trial 0 with value: 1.0.\n",
      "/home/rahul/.local/lib/python3.10/site-packages/sklearn/linear_model/_logistic.py:460: ConvergenceWarning: lbfgs failed to converge (status=1):\n",
      "STOP: TOTAL NO. of ITERATIONS REACHED LIMIT.\n",
      "\n",
      "Increase the number of iterations (max_iter) or scale the data as shown in:\n",
      "    https://scikit-learn.org/stable/modules/preprocessing.html\n",
      "Please also refer to the documentation for alternative solver options:\n",
      "    https://scikit-learn.org/stable/modules/linear_model.html#logistic-regression\n",
      "  n_iter_i = _check_optimize_result(\n",
      "[I 2023-09-14 18:48:56,565] Trial 80 finished with value: 1.0 and parameters: {'C': 6.676294598246651, 'max_iter': 449}. Best is trial 0 with value: 1.0.\n",
      "[I 2023-09-14 18:48:56,679] Trial 81 finished with value: 1.0 and parameters: {'C': 7.4898584482436235, 'max_iter': 870}. Best is trial 0 with value: 1.0.\n",
      "/home/rahul/.local/lib/python3.10/site-packages/sklearn/linear_model/_logistic.py:460: ConvergenceWarning: lbfgs failed to converge (status=1):\n",
      "STOP: TOTAL NO. of ITERATIONS REACHED LIMIT.\n",
      "\n",
      "Increase the number of iterations (max_iter) or scale the data as shown in:\n",
      "    https://scikit-learn.org/stable/modules/preprocessing.html\n",
      "Please also refer to the documentation for alternative solver options:\n",
      "    https://scikit-learn.org/stable/modules/linear_model.html#logistic-regression\n",
      "  n_iter_i = _check_optimize_result(\n",
      "[I 2023-09-14 18:48:56,773] Trial 82 finished with value: 1.0 and parameters: {'C': 6.9011422320144, 'max_iter': 488}. Best is trial 0 with value: 1.0.\n",
      "/home/rahul/.local/lib/python3.10/site-packages/sklearn/linear_model/_logistic.py:460: ConvergenceWarning: lbfgs failed to converge (status=1):\n",
      "STOP: TOTAL NO. of ITERATIONS REACHED LIMIT.\n",
      "\n",
      "Increase the number of iterations (max_iter) or scale the data as shown in:\n",
      "    https://scikit-learn.org/stable/modules/preprocessing.html\n",
      "Please also refer to the documentation for alternative solver options:\n",
      "    https://scikit-learn.org/stable/modules/linear_model.html#logistic-regression\n",
      "  n_iter_i = _check_optimize_result(\n",
      "[I 2023-09-14 18:48:56,827] Trial 83 finished with value: 1.0 and parameters: {'C': 7.185214712572666, 'max_iter': 200}. Best is trial 0 with value: 1.0.\n",
      "/home/rahul/.local/lib/python3.10/site-packages/sklearn/linear_model/_logistic.py:460: ConvergenceWarning: lbfgs failed to converge (status=1):\n",
      "STOP: TOTAL NO. of ITERATIONS REACHED LIMIT.\n",
      "\n",
      "Increase the number of iterations (max_iter) or scale the data as shown in:\n",
      "    https://scikit-learn.org/stable/modules/preprocessing.html\n",
      "Please also refer to the documentation for alternative solver options:\n",
      "    https://scikit-learn.org/stable/modules/linear_model.html#logistic-regression\n",
      "  n_iter_i = _check_optimize_result(\n",
      "[I 2023-09-14 18:48:56,880] Trial 84 finished with value: 1.0 and parameters: {'C': 6.289376988625628, 'max_iter': 158}. Best is trial 0 with value: 1.0.\n",
      "/home/rahul/.local/lib/python3.10/site-packages/sklearn/linear_model/_logistic.py:460: ConvergenceWarning: lbfgs failed to converge (status=1):\n",
      "STOP: TOTAL NO. of ITERATIONS REACHED LIMIT.\n",
      "\n",
      "Increase the number of iterations (max_iter) or scale the data as shown in:\n",
      "    https://scikit-learn.org/stable/modules/preprocessing.html\n",
      "Please also refer to the documentation for alternative solver options:\n",
      "    https://scikit-learn.org/stable/modules/linear_model.html#logistic-regression\n",
      "  n_iter_i = _check_optimize_result(\n",
      "[I 2023-09-14 18:48:56,951] Trial 85 finished with value: 1.0 and parameters: {'C': 7.8874379749979635, 'max_iter': 327}. Best is trial 0 with value: 1.0.\n",
      "/home/rahul/.local/lib/python3.10/site-packages/sklearn/linear_model/_logistic.py:460: ConvergenceWarning: lbfgs failed to converge (status=1):\n",
      "STOP: TOTAL NO. of ITERATIONS REACHED LIMIT.\n",
      "\n",
      "Increase the number of iterations (max_iter) or scale the data as shown in:\n",
      "    https://scikit-learn.org/stable/modules/preprocessing.html\n",
      "Please also refer to the documentation for alternative solver options:\n",
      "    https://scikit-learn.org/stable/modules/linear_model.html#logistic-regression\n",
      "  n_iter_i = _check_optimize_result(\n",
      "[I 2023-09-14 18:48:57,024] Trial 86 finished with value: 1.0 and parameters: {'C': 7.668620865245177, 'max_iter': 289}. Best is trial 0 with value: 1.0.\n",
      "/home/rahul/.local/lib/python3.10/site-packages/sklearn/linear_model/_logistic.py:460: ConvergenceWarning: lbfgs failed to converge (status=1):\n",
      "STOP: TOTAL NO. of ITERATIONS REACHED LIMIT.\n",
      "\n",
      "Increase the number of iterations (max_iter) or scale the data as shown in:\n",
      "    https://scikit-learn.org/stable/modules/preprocessing.html\n",
      "Please also refer to the documentation for alternative solver options:\n",
      "    https://scikit-learn.org/stable/modules/linear_model.html#logistic-regression\n",
      "  n_iter_i = _check_optimize_result(\n",
      "[I 2023-09-14 18:48:57,128] Trial 87 finished with value: 1.0 and parameters: {'C': 8.209418827913005, 'max_iter': 556}. Best is trial 0 with value: 1.0.\n",
      "/home/rahul/.local/lib/python3.10/site-packages/sklearn/linear_model/_logistic.py:460: ConvergenceWarning: lbfgs failed to converge (status=1):\n",
      "STOP: TOTAL NO. of ITERATIONS REACHED LIMIT.\n",
      "\n",
      "Increase the number of iterations (max_iter) or scale the data as shown in:\n",
      "    https://scikit-learn.org/stable/modules/preprocessing.html\n",
      "Please also refer to the documentation for alternative solver options:\n",
      "    https://scikit-learn.org/stable/modules/linear_model.html#logistic-regression\n",
      "  n_iter_i = _check_optimize_result(\n",
      "[I 2023-09-14 18:48:57,209] Trial 88 finished with value: 1.0 and parameters: {'C': 7.3673784072415085, 'max_iter': 367}. Best is trial 0 with value: 1.0.\n",
      "/home/rahul/.local/lib/python3.10/site-packages/sklearn/linear_model/_logistic.py:460: ConvergenceWarning: lbfgs failed to converge (status=1):\n",
      "STOP: TOTAL NO. of ITERATIONS REACHED LIMIT.\n",
      "\n",
      "Increase the number of iterations (max_iter) or scale the data as shown in:\n",
      "    https://scikit-learn.org/stable/modules/preprocessing.html\n",
      "Please also refer to the documentation for alternative solver options:\n",
      "    https://scikit-learn.org/stable/modules/linear_model.html#logistic-regression\n",
      "  n_iter_i = _check_optimize_result(\n",
      "[I 2023-09-14 18:48:57,278] Trial 89 finished with value: 1.0 and parameters: {'C': 6.534868158790833, 'max_iter': 175}. Best is trial 0 with value: 1.0.\n",
      "/home/rahul/.local/lib/python3.10/site-packages/sklearn/linear_model/_logistic.py:460: ConvergenceWarning: lbfgs failed to converge (status=1):\n",
      "STOP: TOTAL NO. of ITERATIONS REACHED LIMIT.\n",
      "\n",
      "Increase the number of iterations (max_iter) or scale the data as shown in:\n",
      "    https://scikit-learn.org/stable/modules/preprocessing.html\n",
      "Please also refer to the documentation for alternative solver options:\n",
      "    https://scikit-learn.org/stable/modules/linear_model.html#logistic-regression\n",
      "  n_iter_i = _check_optimize_result(\n",
      "[I 2023-09-14 18:48:57,338] Trial 90 finished with value: 1.0 and parameters: {'C': 7.036011683975345, 'max_iter': 127}. Best is trial 0 with value: 1.0.\n",
      "/home/rahul/.local/lib/python3.10/site-packages/sklearn/linear_model/_logistic.py:460: ConvergenceWarning: lbfgs failed to converge (status=1):\n",
      "STOP: TOTAL NO. of ITERATIONS REACHED LIMIT.\n",
      "\n",
      "Increase the number of iterations (max_iter) or scale the data as shown in:\n",
      "    https://scikit-learn.org/stable/modules/preprocessing.html\n",
      "Please also refer to the documentation for alternative solver options:\n",
      "    https://scikit-learn.org/stable/modules/linear_model.html#logistic-regression\n",
      "  n_iter_i = _check_optimize_result(\n",
      "[I 2023-09-14 18:48:57,437] Trial 91 finished with value: 1.0 and parameters: {'C': 9.434246421164763, 'max_iter': 530}. Best is trial 0 with value: 1.0.\n",
      "/home/rahul/.local/lib/python3.10/site-packages/sklearn/linear_model/_logistic.py:460: ConvergenceWarning: lbfgs failed to converge (status=1):\n",
      "STOP: TOTAL NO. of ITERATIONS REACHED LIMIT.\n",
      "\n",
      "Increase the number of iterations (max_iter) or scale the data as shown in:\n",
      "    https://scikit-learn.org/stable/modules/preprocessing.html\n",
      "Please also refer to the documentation for alternative solver options:\n",
      "    https://scikit-learn.org/stable/modules/linear_model.html#logistic-regression\n",
      "  n_iter_i = _check_optimize_result(\n",
      "[I 2023-09-14 18:48:57,544] Trial 92 finished with value: 1.0 and parameters: {'C': 9.995321372749196, 'max_iter': 624}. Best is trial 0 with value: 1.0.\n",
      "/home/rahul/.local/lib/python3.10/site-packages/sklearn/linear_model/_logistic.py:460: ConvergenceWarning: lbfgs failed to converge (status=1):\n",
      "STOP: TOTAL NO. of ITERATIONS REACHED LIMIT.\n",
      "\n",
      "Increase the number of iterations (max_iter) or scale the data as shown in:\n",
      "    https://scikit-learn.org/stable/modules/preprocessing.html\n",
      "Please also refer to the documentation for alternative solver options:\n",
      "    https://scikit-learn.org/stable/modules/linear_model.html#logistic-regression\n",
      "  n_iter_i = _check_optimize_result(\n",
      "[I 2023-09-14 18:48:57,656] Trial 93 finished with value: 1.0 and parameters: {'C': 8.674458180687491, 'max_iter': 507}. Best is trial 0 with value: 1.0.\n",
      "/home/rahul/.local/lib/python3.10/site-packages/sklearn/linear_model/_logistic.py:460: ConvergenceWarning: lbfgs failed to converge (status=1):\n",
      "STOP: TOTAL NO. of ITERATIONS REACHED LIMIT.\n",
      "\n",
      "Increase the number of iterations (max_iter) or scale the data as shown in:\n",
      "    https://scikit-learn.org/stable/modules/preprocessing.html\n",
      "Please also refer to the documentation for alternative solver options:\n",
      "    https://scikit-learn.org/stable/modules/linear_model.html#logistic-regression\n",
      "  n_iter_i = _check_optimize_result(\n",
      "[I 2023-09-14 18:48:57,739] Trial 94 finished with value: 1.0 and parameters: {'C': 2.3976549135543515, 'max_iter': 412}. Best is trial 0 with value: 1.0.\n",
      "/home/rahul/.local/lib/python3.10/site-packages/sklearn/linear_model/_logistic.py:460: ConvergenceWarning: lbfgs failed to converge (status=1):\n",
      "STOP: TOTAL NO. of ITERATIONS REACHED LIMIT.\n",
      "\n",
      "Increase the number of iterations (max_iter) or scale the data as shown in:\n",
      "    https://scikit-learn.org/stable/modules/preprocessing.html\n",
      "Please also refer to the documentation for alternative solver options:\n",
      "    https://scikit-learn.org/stable/modules/linear_model.html#logistic-regression\n",
      "  n_iter_i = _check_optimize_result(\n",
      "[I 2023-09-14 18:48:57,830] Trial 95 finished with value: 1.0 and parameters: {'C': 8.441468748426688, 'max_iter': 468}. Best is trial 0 with value: 1.0.\n",
      "[I 2023-09-14 18:48:57,930] Trial 96 finished with value: 1.0 and parameters: {'C': 3.1284256039603737, 'max_iter': 998}. Best is trial 0 with value: 1.0.\n",
      "/home/rahul/.local/lib/python3.10/site-packages/sklearn/linear_model/_logistic.py:460: ConvergenceWarning: lbfgs failed to converge (status=1):\n",
      "STOP: TOTAL NO. of ITERATIONS REACHED LIMIT.\n",
      "\n",
      "Increase the number of iterations (max_iter) or scale the data as shown in:\n",
      "    https://scikit-learn.org/stable/modules/preprocessing.html\n",
      "Please also refer to the documentation for alternative solver options:\n",
      "    https://scikit-learn.org/stable/modules/linear_model.html#logistic-regression\n",
      "  n_iter_i = _check_optimize_result(\n",
      "[I 2023-09-14 18:48:58,043] Trial 97 finished with value: 1.0 and parameters: {'C': 6.206351100600228, 'max_iter': 590}. Best is trial 0 with value: 1.0.\n",
      "/home/rahul/.local/lib/python3.10/site-packages/sklearn/linear_model/_logistic.py:460: ConvergenceWarning: lbfgs failed to converge (status=1):\n",
      "STOP: TOTAL NO. of ITERATIONS REACHED LIMIT.\n",
      "\n",
      "Increase the number of iterations (max_iter) or scale the data as shown in:\n",
      "    https://scikit-learn.org/stable/modules/preprocessing.html\n",
      "Please also refer to the documentation for alternative solver options:\n",
      "    https://scikit-learn.org/stable/modules/linear_model.html#logistic-regression\n",
      "  n_iter_i = _check_optimize_result(\n",
      "[I 2023-09-14 18:48:58,129] Trial 98 finished with value: 1.0 and parameters: {'C': 7.978004335474141, 'max_iter': 439}. Best is trial 0 with value: 1.0.\n",
      "/home/rahul/.local/lib/python3.10/site-packages/sklearn/linear_model/_logistic.py:460: ConvergenceWarning: lbfgs failed to converge (status=1):\n",
      "STOP: TOTAL NO. of ITERATIONS REACHED LIMIT.\n",
      "\n",
      "Increase the number of iterations (max_iter) or scale the data as shown in:\n",
      "    https://scikit-learn.org/stable/modules/preprocessing.html\n",
      "Please also refer to the documentation for alternative solver options:\n",
      "    https://scikit-learn.org/stable/modules/linear_model.html#logistic-regression\n",
      "  n_iter_i = _check_optimize_result(\n",
      "[I 2023-09-14 18:48:58,228] Trial 99 finished with value: 1.0 and parameters: {'C': 5.5162804191440165, 'max_iter': 565}. Best is trial 0 with value: 1.0.\n"
     ]
    },
    {
     "name": "stdout",
     "output_type": "stream",
     "text": [
      "\n",
      "\n",
      "Optimal C and max_iter values:  {'C': 7.749961858409297, 'max_iter': 241}\n",
      "Optimal accuracy score:  1.0\n"
     ]
    }
   ],
   "source": [
    "''' 2. Optimize hyperparameters using Optuna\n",
    "a. Reuse the code from Part 5 for fitting a logistic regression model using scikit-learn\n",
    "b. Use Optuna to determine the optimal values for two hyperparameters in logistic regression: C and max_iter\n",
    "    The aim is to find the hyperparameters that result in the highest accuracy score\n",
    "    The hyperparameter C should be in the range [0.01, 10], and max_iter should be within the range of [100, 1000]\n",
    "c. Print the optimal values of C and max_iter and corresponding accuracy score obtained\n",
    "'''\n",
    "\n",
    "# BEGIN_YOUR_CODE\n",
    "\n",
    "def objective(trail):\n",
    "    C = trail.suggest_float(\"C\", 0.1, 10)\n",
    "    max_iter = trail.suggest_int(\"max_iter\", 100, 1000)\n",
    "\n",
    "    optuna_lr = LogisticRegression(C=C, max_iter=max_iter)\n",
    "\n",
    "    optuna_lr.fit(x_train, y_train)\n",
    "    optuna_y_pred = optuna_lr.predict(x_test)\n",
    "\n",
    "    accuracy = accuracy_score(y_test, optuna_y_pred)\n",
    "\n",
    "    return accuracy\n",
    "    \n",
    "study = optuna.create_study(direction = \"maximize\")\n",
    "study.optimize(objective, n_trials=100)\n",
    "\n",
    "print(\"\\n\\nOptimal C and max_iter values: \", study.best_params)\n",
    "print(\"Optimal accuracy score: \", study.best_value)\n",
    "# END_YOUR_CODE"
   ]
  },
  {
   "cell_type": "markdown",
   "metadata": {},
   "source": [
    "<a id='references'></a>\n",
    "## References Used\n",
    "\n",
    "**List below all the references you used to complete this assignment, including full links to the online resources**\n",
    "\n",
    "<font color='red'>Missing references will result in -5 points for the assignmnent. If you haven't used any resources to complete this assignments, just add \"None\" below</font>"
   ]
  },
  {
   "cell_type": "code",
   "execution_count": 152,
   "metadata": {},
   "outputs": [
    {
     "data": {
      "text/plain": [
       "'https://numpy.org/doc/stable/reference/ - referenced for numpy related questions'"
      ]
     },
     "execution_count": 152,
     "metadata": {},
     "output_type": "execute_result"
    }
   ],
   "source": [
    "'''https://numpy.org/doc/stable/reference/ - referenced for numpy related questions'''"
   ]
  },
  {
   "cell_type": "code",
   "execution_count": 153,
   "metadata": {},
   "outputs": [
    {
     "data": {
      "text/plain": [
       "'https://pandas.pydata.org/docs/reference/index.html#api - for pandas related functions'"
      ]
     },
     "execution_count": 153,
     "metadata": {},
     "output_type": "execute_result"
    }
   ],
   "source": [
    "'''https://pandas.pydata.org/docs/reference/index.html#api - for pandas related functions'''"
   ]
  },
  {
   "cell_type": "code",
   "execution_count": 154,
   "metadata": {},
   "outputs": [
    {
     "data": {
      "text/plain": [
       "'https://github.com/optuna/optuna-examples/blob/main/sklearn/sklearn_simple.py - for optuna question, from official optuna github page'"
      ]
     },
     "execution_count": 154,
     "metadata": {},
     "output_type": "execute_result"
    }
   ],
   "source": [
    "'''https://github.com/optuna/optuna-examples/blob/main/sklearn/sklearn_simple.py - for optuna question, from official optuna github page'''"
   ]
  },
  {
   "cell_type": "markdown",
   "metadata": {},
   "source": [
    "**Instructions**:\n",
    "\n",
    "*   Do not copy paste code from the references. You can refer to better understand and then code yourself.\n",
    "*   Prefer official documentations over other sources, for accurate and standard practices.\n",
    "*   Do not use ChatGPT. This assignment is aiming to strengthen your Python skills. Python is a crucial language in AI and data science, so ensure you're comfortable with its various aspects.\n",
    "*   Have fun and all the best!\n",
    "\n",
    "P.S. Start early and post on piazza, if you have any questions!\n",
    "\n",
    "\n",
    "\n"
   ]
  }
 ],
 "metadata": {
  "kernelspec": {
   "display_name": "Python 3",
   "language": "python",
   "name": "python3"
  },
  "language_info": {
   "codemirror_mode": {
    "name": "ipython",
    "version": 3
   },
   "file_extension": ".py",
   "mimetype": "text/x-python",
   "name": "python",
   "nbconvert_exporter": "python",
   "pygments_lexer": "ipython3",
   "version": "3.10.12"
  },
  "orig_nbformat": 4
 },
 "nbformat": 4,
 "nbformat_minor": 2
}
